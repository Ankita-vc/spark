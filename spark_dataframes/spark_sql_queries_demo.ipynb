{
 "cells": [
  {
   "cell_type": "code",
   "execution_count": 1,
   "metadata": {},
   "outputs": [],
   "source": [
    "from pyspark.sql import SparkSession\n",
    "spark = SparkSession.builder.appName(\"airline dataset analysis\").getOrCreate()"
   ]
  },
  {
   "cell_type": "code",
   "execution_count": 2,
   "metadata": {},
   "outputs": [],
   "source": [
    "from pyspark.sql.types import Row\n",
    "from datetime import datetime"
   ]
  },
  {
   "cell_type": "code",
   "execution_count": 3,
   "metadata": {},
   "outputs": [
    {
     "data": {
      "text/plain": [
       "ParallelCollectionRDD[0] at parallelize at PythonRDD.scala:184"
      ]
     },
     "execution_count": 3,
     "metadata": {},
     "output_type": "execute_result"
    }
   ],
   "source": [
    "complex_rdd = sc.parallelize([\n",
    "                    Row(id=1, name='Ankita', dic = {'a':1, 'b':2}, list_ = [1,2]),\n",
    "                    Row(id=2, name='Ankit', dic = {'c':1, 'b':2}, list_ = [3,4]),\n",
    "                    Row(id=3, name='Anki', dic = {'g':1, 'f':2}, list_ = [1,2])\n",
    "                ])\n",
    "complex_rdd"
   ]
  },
  {
   "cell_type": "code",
   "execution_count": 6,
   "metadata": {},
   "outputs": [
    {
     "name": "stdout",
     "output_type": "stream",
     "text": [
      "+----------------+---+------+------+\n",
      "|             dic| id| list_|  name|\n",
      "+----------------+---+------+------+\n",
      "|[a -> 1, b -> 2]|  1|[1, 2]|Ankita|\n",
      "|[b -> 2, c -> 1]|  2|[3, 4]| Ankit|\n",
      "|[f -> 2, g -> 1]|  3|[1, 2]|  Anki|\n",
      "+----------------+---+------+------+\n",
      "\n"
     ]
    }
   ],
   "source": [
    "complex_df  = complex_rdd.toDF()\n",
    "complex_df.show()"
   ]
  },
  {
   "cell_type": "code",
   "execution_count": 13,
   "metadata": {},
   "outputs": [],
   "source": [
    "#register complex_df as table to perform sql queries on it\n",
    "complex_df.createOrReplaceTempView('records')\n",
    "#createorreplaceTempView creates a table active for this session only and not shared accross other sessions\n"
   ]
  },
  {
   "cell_type": "code",
   "execution_count": 14,
   "metadata": {},
   "outputs": [
    {
     "data": {
      "text/plain": [
       "<pyspark.sql.context.SQLContext at 0x7f5235c14cc0>"
      ]
     },
     "execution_count": 14,
     "metadata": {},
     "output_type": "execute_result"
    }
   ],
   "source": [
    "sqlc = SQLContext(sc)\n",
    "sqlc"
   ]
  },
  {
   "cell_type": "code",
   "execution_count": 16,
   "metadata": {},
   "outputs": [],
   "source": [
    "sql_record = sqlc.sql('select * from records')"
   ]
  },
  {
   "cell_type": "code",
   "execution_count": 17,
   "metadata": {},
   "outputs": [
    {
     "name": "stdout",
     "output_type": "stream",
     "text": [
      "+----------------+---+------+------+\n",
      "|             dic| id| list_|  name|\n",
      "+----------------+---+------+------+\n",
      "|[a -> 1, b -> 2]|  1|[1, 2]|Ankita|\n",
      "|[b -> 2, c -> 1]|  2|[3, 4]| Ankit|\n",
      "|[f -> 2, g -> 1]|  3|[1, 2]|  Anki|\n",
      "+----------------+---+------+------+\n",
      "\n"
     ]
    }
   ],
   "source": [
    "sql_record.show()"
   ]
  },
  {
   "cell_type": "code",
   "execution_count": 23,
   "metadata": {},
   "outputs": [
    {
     "name": "stdout",
     "output_type": "stream",
     "text": [
      "+---+--------+------+\n",
      "| id|list_[0]|  name|\n",
      "+---+--------+------+\n",
      "|  1|       1|Ankita|\n",
      "|  2|       3| Ankit|\n",
      "|  3|       1|  Anki|\n",
      "+---+--------+------+\n",
      "\n"
     ]
    }
   ],
   "source": [
    "sqlc.sql('select id, list_[0], name from records').show()"
   ]
  },
  {
   "cell_type": "code",
   "execution_count": 28,
   "metadata": {},
   "outputs": [
    {
     "name": "stdout",
     "output_type": "stream",
     "text": [
      "+---+--------+------+\n",
      "| id|list_[0]|  name|\n",
      "+---+--------+------+\n",
      "|  1|       1|Ankita|\n",
      "+---+--------+------+\n",
      "\n"
     ]
    }
   ],
   "source": [
    "sqlc.sql('select id, list_[0], name from records where name =\"Ankita\"').show()"
   ]
  },
  {
   "cell_type": "code",
   "execution_count": 29,
   "metadata": {},
   "outputs": [
    {
     "name": "stdout",
     "output_type": "stream",
     "text": [
      "+---+--------+-----+\n",
      "| id|list_[0]| name|\n",
      "+---+--------+-----+\n",
      "|  2|       3|Ankit|\n",
      "|  3|       1| Anki|\n",
      "+---+--------+-----+\n",
      "\n"
     ]
    }
   ],
   "source": [
    "sqlc.sql('select id, list_[0], name from records where id > 1').show()"
   ]
  },
  {
   "cell_type": "code",
   "execution_count": 32,
   "metadata": {},
   "outputs": [],
   "source": [
    "#register complex_df as table to perform sql queries on it\n",
    "complex_df.createGlobalTempView('records2')\n",
    "#accessible accross other sessions\n"
   ]
  },
  {
   "cell_type": "code",
   "execution_count": 33,
   "metadata": {},
   "outputs": [],
   "source": [
    "sql_record2 = sqlc.sql('select * from  global_temp.records')"
   ]
  },
  {
   "cell_type": "code",
   "execution_count": 34,
   "metadata": {},
   "outputs": [
    {
     "name": "stdout",
     "output_type": "stream",
     "text": [
      "+----------------+---+------+------+\n",
      "|             dic| id| list_|  name|\n",
      "+----------------+---+------+------+\n",
      "|[a -> 1, b -> 2]|  1|[1, 2]|Ankita|\n",
      "|[b -> 2, c -> 1]|  2|[3, 4]| Ankit|\n",
      "|[f -> 2, g -> 1]|  3|[1, 2]|  Anki|\n",
      "+----------------+---+------+------+\n",
      "\n"
     ]
    }
   ],
   "source": [
    "sql_record2.show()"
   ]
  },
  {
   "cell_type": "code",
   "execution_count": null,
   "metadata": {},
   "outputs": [],
   "source": []
  }
 ],
 "metadata": {
  "kernelspec": {
   "display_name": "Python 3",
   "language": "python",
   "name": "python3"
  },
  "language_info": {
   "codemirror_mode": {
    "name": "ipython",
    "version": 3
   },
   "file_extension": ".py",
   "mimetype": "text/x-python",
   "name": "python",
   "nbconvert_exporter": "python",
   "pygments_lexer": "ipython3",
   "version": "3.6.5"
  }
 },
 "nbformat": 4,
 "nbformat_minor": 2
}
