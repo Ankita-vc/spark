{
 "cells": [
  {
   "cell_type": "code",
   "execution_count": 1,
   "metadata": {},
   "outputs": [
    {
     "data": {
      "text/html": [
       "\n",
       "        <div>\n",
       "            <p><b>SparkContext</b></p>\n",
       "\n",
       "            <p><a href=\"http://ICPL12901:4043\">Spark UI</a></p>\n",
       "\n",
       "            <dl>\n",
       "              <dt>Version</dt>\n",
       "                <dd><code>v2.3.1</code></dd>\n",
       "              <dt>Master</dt>\n",
       "                <dd><code>local[2]</code></dd>\n",
       "              <dt>AppName</dt>\n",
       "                <dd><code>PySparkShell</code></dd>\n",
       "            </dl>\n",
       "        </div>\n",
       "        "
      ],
      "text/plain": [
       "<SparkContext master=local[2] appName=PySparkShell>"
      ]
     },
     "execution_count": 1,
     "metadata": {},
     "output_type": "execute_result"
    }
   ],
   "source": [
    "sc"
   ]
  },
  {
   "cell_type": "code",
   "execution_count": 4,
   "metadata": {},
   "outputs": [
    {
     "data": {
      "text/plain": [
       "DataFrame[name: string, sal: bigint]"
      ]
     },
     "execution_count": 4,
     "metadata": {},
     "output_type": "execute_result"
    }
   ],
   "source": [
    "valuesA = [('ankita', 2000), ('ank', 1000), ('sddsd', 775)]\n",
    "df = spark.createDataFrame(valuesA, ['name', 'sal'])\n",
    "df                        "
   ]
  },
  {
   "cell_type": "code",
   "execution_count": 5,
   "metadata": {},
   "outputs": [
    {
     "name": "stdout",
     "output_type": "stream",
     "text": [
      "+------+----+\n",
      "|  name| sal|\n",
      "+------+----+\n",
      "|ankita|2000|\n",
      "|   ank|1000|\n",
      "| sddsd| 775|\n",
      "+------+----+\n",
      "\n"
     ]
    }
   ],
   "source": [
    "df.show()"
   ]
  },
  {
   "cell_type": "code",
   "execution_count": 6,
   "metadata": {},
   "outputs": [
    {
     "name": "stdout",
     "output_type": "stream",
     "text": [
      "+------+---+\n",
      "|  name| id|\n",
      "+------+---+\n",
      "|ankita|  1|\n",
      "|   ank|  2|\n",
      "+------+---+\n",
      "\n"
     ]
    }
   ],
   "source": [
    "valuesB = [('ankita', 1), ('ank', 2)]\n",
    "df1 = spark.createDataFrame(valuesB, ['name', 'id'])\n",
    "df1.show()"
   ]
  },
  {
   "cell_type": "code",
   "execution_count": 7,
   "metadata": {},
   "outputs": [],
   "source": [
    "#inner join\n",
    "inner_join = df.join(df1, df.name == df1.name)"
   ]
  },
  {
   "cell_type": "code",
   "execution_count": 9,
   "metadata": {},
   "outputs": [
    {
     "name": "stdout",
     "output_type": "stream",
     "text": [
      "+------+----+------+---+\n",
      "|  name| sal|  name| id|\n",
      "+------+----+------+---+\n",
      "|ankita|2000|ankita|  1|\n",
      "|   ank|1000|   ank|  2|\n",
      "+------+----+------+---+\n",
      "\n"
     ]
    }
   ],
   "source": [
    "inner_join.show()"
   ]
  },
  {
   "cell_type": "code",
   "execution_count": 10,
   "metadata": {},
   "outputs": [
    {
     "name": "stdout",
     "output_type": "stream",
     "text": [
      "+------+----+------+----+\n",
      "|  name| sal|  name|  id|\n",
      "+------+----+------+----+\n",
      "|ankita|2000|ankita|   1|\n",
      "| sddsd| 775|  null|null|\n",
      "|   ank|1000|   ank|   2|\n",
      "+------+----+------+----+\n",
      "\n"
     ]
    }
   ],
   "source": [
    "#left outer join\n",
    "left_join = df.join(df1, df.name == df1.name, how = 'left')\n",
    "left_join.show()"
   ]
  },
  {
   "cell_type": "code",
   "execution_count": 11,
   "metadata": {},
   "outputs": [
    {
     "name": "stdout",
     "output_type": "stream",
     "text": [
      "+------+----+------+---+\n",
      "|  name| sal|  name| id|\n",
      "+------+----+------+---+\n",
      "|ankita|2000|ankita|  1|\n",
      "|   ank|1000|   ank|  2|\n",
      "+------+----+------+---+\n",
      "\n"
     ]
    }
   ],
   "source": [
    "#right outer join\n",
    "right_join = df.join(df1, df.name == df1.name, how = 'right')\n",
    "right_join.show()"
   ]
  },
  {
   "cell_type": "code",
   "execution_count": 12,
   "metadata": {},
   "outputs": [
    {
     "name": "stdout",
     "output_type": "stream",
     "text": [
      "+------+----+------+----+\n",
      "|  name| sal|  name|  id|\n",
      "+------+----+------+----+\n",
      "|ankita|2000|ankita|   1|\n",
      "| sddsd| 775|  null|null|\n",
      "|   ank|1000|   ank|   2|\n",
      "+------+----+------+----+\n",
      "\n"
     ]
    }
   ],
   "source": [
    "#full join\n",
    "full_join = df.join(df1, df.name == df1.name, how = 'full')\n",
    "full_join.show()"
   ]
  },
  {
   "cell_type": "code",
   "execution_count": null,
   "metadata": {},
   "outputs": [],
   "source": []
  }
 ],
 "metadata": {
  "kernelspec": {
   "display_name": "Python 3",
   "language": "python",
   "name": "python3"
  },
  "language_info": {
   "codemirror_mode": {
    "name": "ipython",
    "version": 3
   },
   "file_extension": ".py",
   "mimetype": "text/x-python",
   "name": "python",
   "nbconvert_exporter": "python",
   "pygments_lexer": "ipython3",
   "version": "3.6.5"
  }
 },
 "nbformat": 4,
 "nbformat_minor": 2
}
