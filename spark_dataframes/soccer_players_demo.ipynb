{
 "cells": [
  {
   "cell_type": "code",
   "execution_count": 3,
   "metadata": {},
   "outputs": [],
   "source": [
    "from pyspark.sql import SparkSession\n",
    "spark = SparkSession.builder.appName(\"soccer players dataset analysis\").getOrCreate()"
   ]
  },
  {
   "cell_type": "code",
   "execution_count": 4,
   "metadata": {},
   "outputs": [],
   "source": [
    "#load data from csv into spark dataframe\n",
    "data = spark.read.format('csv').option('header', True).load('player.csv')"
   ]
  },
  {
   "cell_type": "code",
   "execution_count": 5,
   "metadata": {},
   "outputs": [
    {
     "data": {
      "text/plain": [
       "DataFrame[id: string, player_api_id: string, player_name: string, player_fifa_api_id: string, birthday: string, height: string, weight: string]"
      ]
     },
     "execution_count": 5,
     "metadata": {},
     "output_type": "execute_result"
    }
   ],
   "source": [
    "data"
   ]
  },
  {
   "cell_type": "code",
   "execution_count": 6,
   "metadata": {},
   "outputs": [
    {
     "name": "stdout",
     "output_type": "stream",
     "text": [
      "+---+-------------+--------------------+------------------+-------------------+------+------+\n",
      "| id|player_api_id|         player_name|player_fifa_api_id|           birthday|height|weight|\n",
      "+---+-------------+--------------------+------------------+-------------------+------+------+\n",
      "|  1|       505942|  Aaron Appindangoye|            218353|1992-02-29 00:00:00|182.88|   187|\n",
      "|  2|       155782|     Aaron Cresswell|            189615|1989-12-15 00:00:00|170.18|   146|\n",
      "|  3|       162549|         Aaron Doran|            186170|1991-05-13 00:00:00|170.18|   163|\n",
      "|  4|        30572|       Aaron Galindo|            140161|1982-05-08 00:00:00|182.88|   198|\n",
      "|  5|        23780|        Aaron Hughes|             17725|1979-11-08 00:00:00|182.88|   154|\n",
      "|  6|        27316|          Aaron Hunt|            158138|1986-09-04 00:00:00|182.88|   161|\n",
      "|  7|       564793|          Aaron Kuhl|            221280|1996-01-30 00:00:00|172.72|   146|\n",
      "|  8|        30895|        Aaron Lennon|            152747|1987-04-16 00:00:00| 165.1|   139|\n",
      "|  9|       528212|        Aaron Lennox|            206592|1993-02-19 00:00:00| 190.5|   181|\n",
      "| 10|       101042|       Aaron Meijers|            188621|1987-10-28 00:00:00|175.26|   170|\n",
      "| 11|        23889|       Aaron Mokoena|             47189|1980-11-25 00:00:00|182.88|   181|\n",
      "| 12|       231592|          Aaron Mooy|            194958|1990-09-15 00:00:00|175.26|   150|\n",
      "| 13|       163222|      Aaron Muirhead|            213568|1990-08-30 00:00:00|187.96|   168|\n",
      "| 14|        40719|        Aaron Niguez|            183853|1989-04-26 00:00:00|170.18|   143|\n",
      "| 15|        75489|        Aaron Ramsey|            186561|1990-12-26 00:00:00| 177.8|   154|\n",
      "| 16|       597948|       Aaron Splaine|            226014|1996-10-13 00:00:00|172.72|   163|\n",
      "| 17|       161644|Aaron Taylor-Sinc...|            213569|1991-04-08 00:00:00|182.88|   176|\n",
      "| 18|        23499|     Aaron Wilbraham|              2335|1979-10-21 00:00:00| 190.5|   159|\n",
      "| 19|       120919|   Aatif Chahechouhe|            187939|1986-07-02 00:00:00|175.26|   150|\n",
      "| 20|        46447|           Abasse Ba|            156626|1976-07-12 00:00:00|187.96|   185|\n",
      "+---+-------------+--------------------+------------------+-------------------+------+------+\n",
      "only showing top 20 rows\n",
      "\n"
     ]
    }
   ],
   "source": [
    "data.show()"
   ]
  },
  {
   "cell_type": "code",
   "execution_count": 7,
   "metadata": {},
   "outputs": [
    {
     "name": "stdout",
     "output_type": "stream",
     "text": [
      "root\n",
      " |-- id: string (nullable = true)\n",
      " |-- player_api_id: string (nullable = true)\n",
      " |-- player_name: string (nullable = true)\n",
      " |-- player_fifa_api_id: string (nullable = true)\n",
      " |-- birthday: string (nullable = true)\n",
      " |-- height: string (nullable = true)\n",
      " |-- weight: string (nullable = true)\n",
      "\n"
     ]
    }
   ],
   "source": [
    "#print schema of the dataframe\n",
    "data.printSchema()"
   ]
  },
  {
   "cell_type": "code",
   "execution_count": 8,
   "metadata": {},
   "outputs": [],
   "source": [
    "#load data from player attributes\n",
    "player_att = spark.read.format('csv').option('header', True).load('player_attributes.csv')"
   ]
  },
  {
   "cell_type": "code",
   "execution_count": 9,
   "metadata": {},
   "outputs": [
    {
     "name": "stdout",
     "output_type": "stream",
     "text": [
      "+---+------------------+-------------+-------------------+--------------+---------+--------------+-------------------+-------------------+--------+---------+----------------+-------------+-------+---------+-----+------------------+------------+------------+------------+------------+-------+---------+-------+----------+-------+-------+--------+----------+----------+-------------+-----------+------+---------+-------+---------------+--------------+---------+-----------+----------+--------------+-----------+\n",
      "| id|player_fifa_api_id|player_api_id|               date|overall_rating|potential|preferred_foot|attacking_work_rate|defensive_work_rate|crossing|finishing|heading_accuracy|short_passing|volleys|dribbling|curve|free_kick_accuracy|long_passing|ball_control|acceleration|sprint_speed|agility|reactions|balance|shot_power|jumping|stamina|strength|long_shots|aggression|interceptions|positioning|vision|penalties|marking|standing_tackle|sliding_tackle|gk_diving|gk_handling|gk_kicking|gk_positioning|gk_reflexes|\n",
      "+---+------------------+-------------+-------------------+--------------+---------+--------------+-------------------+-------------------+--------+---------+----------------+-------------+-------+---------+-----+------------------+------------+------------+------------+------------+-------+---------+-------+----------+-------+-------+--------+----------+----------+-------------+-----------+------+---------+-------+---------------+--------------+---------+-----------+----------+--------------+-----------+\n",
      "|  1|            218353|       505942|2016-02-18 00:00:00|            67|       71|         right|             medium|             medium|      49|       44|              71|           61|     44|       51|   45|                39|          64|          49|          60|          64|     59|       47|     65|        55|     58|     54|      76|        35|        71|           70|         45|    54|       48|     65|             69|            69|        6|         11|        10|             8|          8|\n",
      "|  2|            218353|       505942|2015-11-19 00:00:00|            67|       71|         right|             medium|             medium|      49|       44|              71|           61|     44|       51|   45|                39|          64|          49|          60|          64|     59|       47|     65|        55|     58|     54|      76|        35|        71|           70|         45|    54|       48|     65|             69|            69|        6|         11|        10|             8|          8|\n",
      "|  3|            218353|       505942|2015-09-21 00:00:00|            62|       66|         right|             medium|             medium|      49|       44|              71|           61|     44|       51|   45|                39|          64|          49|          60|          64|     59|       47|     65|        55|     58|     54|      76|        35|        63|           41|         45|    54|       48|     65|             66|            69|        6|         11|        10|             8|          8|\n",
      "|  4|            218353|       505942|2015-03-20 00:00:00|            61|       65|         right|             medium|             medium|      48|       43|              70|           60|     43|       50|   44|                38|          63|          48|          60|          64|     59|       46|     65|        54|     58|     54|      76|        34|        62|           40|         44|    53|       47|     62|             63|            66|        5|         10|         9|             7|          7|\n",
      "|  5|            218353|       505942|2007-02-22 00:00:00|            61|       65|         right|             medium|             medium|      48|       43|              70|           60|     43|       50|   44|                38|          63|          48|          60|          64|     59|       46|     65|        54|     58|     54|      76|        34|        62|           40|         44|    53|       47|     62|             63|            66|        5|         10|         9|             7|          7|\n",
      "|  6|            189615|       155782|2016-04-21 00:00:00|            74|       76|          left|               high|             medium|      80|       53|              58|           71|     40|       73|   70|                69|          68|          71|          79|          78|     78|       67|     90|        71|     85|     79|      56|        62|        68|           67|         60|    66|       59|     76|             75|            78|       14|          7|         9|             9|         12|\n",
      "|  7|            189615|       155782|2016-04-07 00:00:00|            74|       76|          left|               high|             medium|      80|       53|              58|           71|     32|       73|   70|                69|          68|          71|          79|          78|     78|       67|     90|        71|     85|     79|      56|        60|        68|           67|         60|    66|       59|     76|             75|            78|       14|          7|         9|             9|         12|\n",
      "|  8|            189615|       155782|2016-01-07 00:00:00|            73|       75|          left|               high|             medium|      79|       52|              57|           70|     29|       71|   68|                69|          68|          70|          79|          78|     78|       67|     90|        71|     84|     79|      56|        59|        67|           66|         58|    65|       59|     76|             75|            78|       14|          7|         9|             9|         12|\n",
      "|  9|            189615|       155782|2015-12-24 00:00:00|            73|       75|          left|               high|             medium|      79|       51|              57|           70|     29|       71|   68|                69|          68|          70|          79|          78|     78|       67|     90|        71|     84|     79|      56|        58|        67|           66|         58|    65|       59|     76|             75|            78|       14|          7|         9|             9|         12|\n",
      "| 10|            189615|       155782|2015-12-17 00:00:00|            73|       75|          left|               high|             medium|      79|       51|              57|           70|     29|       71|   68|                69|          68|          70|          79|          78|     78|       67|     90|        71|     84|     79|      56|        58|        67|           66|         58|    65|       59|     76|             75|            78|       14|          7|         9|             9|         12|\n",
      "| 11|            189615|       155782|2015-10-16 00:00:00|            73|       77|          left|               high|             medium|      79|       51|              57|           70|     29|       71|   68|                69|          68|          70|          79|          78|     78|       67|     90|        71|     84|     79|      56|        58|        67|           66|         58|    65|       59|     76|             75|            78|       14|          7|         9|             9|         12|\n",
      "| 12|            189615|       155782|2015-09-25 00:00:00|            74|       78|          left|               high|             medium|      79|       51|              57|           70|     29|       71|   68|                69|          68|          70|          80|          78|     78|       67|     90|        71|     84|     79|      56|        58|        67|           66|         58|    65|       59|     76|             75|            78|       14|          7|         9|             9|         12|\n",
      "| 13|            189615|       155782|2015-09-21 00:00:00|            73|       77|          left|             medium|             medium|      79|       51|              57|           70|     29|       67|   68|                69|          68|          68|          79|          78|     78|       67|     90|        71|     84|     79|      56|        58|        67|           66|         58|    65|       59|     76|             75|            78|       14|          7|         9|             9|         12|\n",
      "| 14|            189615|       155782|2015-01-09 00:00:00|            71|       75|          left|             medium|             medium|      78|       50|              56|           69|     28|       66|   67|                68|          67|          67|          79|          82|     79|       71|     90|        70|     84|     79|      50|        56|        66|           65|         57|    64|       58|     73|             72|            72|       13|          6|         8|             8|         11|\n",
      "| 15|            189615|       155782|2014-12-05 00:00:00|            71|       77|          left|             medium|             medium|      78|       50|              56|           69|     28|       66|   67|                68|          67|          67|          79|          82|     79|       71|     90|        70|     84|     79|      50|        56|        66|           65|         57|    64|       58|     73|             72|            72|       13|          6|         8|             8|         11|\n",
      "| 16|            189615|       155782|2014-11-07 00:00:00|            71|       77|          left|             medium|             medium|      78|       50|              56|           69|     28|       66|   67|                68|          67|          67|          79|          82|     79|       71|     90|        70|     84|     79|      50|        56|        66|           65|         57|    64|       58|     73|             72|            72|       13|          6|         8|             8|         11|\n",
      "| 17|            189615|       155782|2014-09-18 00:00:00|            70|       77|          left|             medium|             medium|      77|       50|              51|           67|     28|       66|   67|                68|          67|          66|          79|          82|     79|       69|     90|        70|     84|     79|      50|        56|        66|           62|         57|    64|       58|     73|             72|            72|       13|          6|         8|             8|         11|\n",
      "| 18|            189615|       155782|2014-05-02 00:00:00|            70|       79|          left|             medium|             medium|      77|       50|              51|           67|     28|       66|   67|                68|          67|          66|          84|          82|     81|       69|     90|        70|     84|     80|      50|        56|        66|           62|         57|    64|       58|     73|             72|            72|       13|          6|         8|             8|         11|\n",
      "| 19|            189615|       155782|2014-04-04 00:00:00|            70|       79|          left|             medium|             medium|      77|       50|              51|           67|     28|       66|   67|                68|          67|          66|          84|          82|     81|       69|     90|        70|     84|     80|      50|        56|        66|           62|         57|    64|       58|     73|             72|            72|       13|          6|         8|             8|         11|\n",
      "| 20|            189615|       155782|2014-03-14 00:00:00|            70|       79|          left|             medium|             medium|      77|       50|              51|           67|     28|       66|   66|                68|          67|          65|          84|          82|     81|       69|     90|        70|     84|     79|      49|        55|        66|           62|         57|    61|       58|     73|             72|            72|       13|          6|         8|             8|         11|\n",
      "+---+------------------+-------------+-------------------+--------------+---------+--------------+-------------------+-------------------+--------+---------+----------------+-------------+-------+---------+-----+------------------+------------+------------+------------+------------+-------+---------+-------+----------+-------+-------+--------+----------+----------+-------------+-----------+------+---------+-------+---------------+--------------+---------+-----------+----------+--------------+-----------+\n",
      "only showing top 20 rows\n",
      "\n"
     ]
    }
   ],
   "source": [
    "player_att.show()"
   ]
  },
  {
   "cell_type": "code",
   "execution_count": 10,
   "metadata": {},
   "outputs": [
    {
     "data": {
      "text/plain": [
       "[11060, 183978]"
      ]
     },
     "execution_count": 10,
     "metadata": {},
     "output_type": "execute_result"
    }
   ],
   "source": [
    "#get the count of players from both the dataset\n",
    "[data.count() ,\n",
    "player_att.count()]"
   ]
  },
  {
   "cell_type": "code",
   "execution_count": 11,
   "metadata": {},
   "outputs": [
    {
     "data": {
      "text/plain": [
       "11060"
      ]
     },
     "execution_count": 11,
     "metadata": {},
     "output_type": "execute_result"
    }
   ],
   "source": [
    "#get count of only distinct player_api_id\n",
    "player_att.select('player_api_id').distinct().count()"
   ]
  },
  {
   "cell_type": "code",
   "execution_count": 12,
   "metadata": {},
   "outputs": [
    {
     "data": {
      "text/plain": [
       "['player_api_id', 'player_name', 'birthday', 'height', 'weight']"
      ]
     },
     "execution_count": 12,
     "metadata": {},
     "output_type": "execute_result"
    }
   ],
   "source": [
    "#drop not useful columns from players\n",
    "data = data.drop('id', 'player_fifa_api_id')\n",
    "data.columns"
   ]
  },
  {
   "cell_type": "code",
   "execution_count": 13,
   "metadata": {},
   "outputs": [
    {
     "data": {
      "text/plain": [
       "['player_api_id',\n",
       " 'date',\n",
       " 'overall_rating',\n",
       " 'finishing',\n",
       " 'heading_accuracy',\n",
       " 'volleys',\n",
       " 'dribbling',\n",
       " 'curve',\n",
       " 'free_kick_accuracy',\n",
       " 'long_passing',\n",
       " 'ball_control',\n",
       " 'acceleration',\n",
       " 'agility',\n",
       " 'reactions',\n",
       " 'shot_power',\n",
       " 'stamina',\n",
       " 'strength',\n",
       " 'long_shots',\n",
       " 'interceptions',\n",
       " 'positioning',\n",
       " 'vision',\n",
       " 'penalties',\n",
       " 'marking',\n",
       " 'standing_tackle',\n",
       " 'sliding_tackle',\n",
       " 'gk_diving',\n",
       " 'gk_handling',\n",
       " 'gk_kicking',\n",
       " 'gk_positioning',\n",
       " 'gk_reflexes']"
      ]
     },
     "execution_count": 13,
     "metadata": {},
     "output_type": "execute_result"
    }
   ],
   "source": [
    "player_att = player_att.drop('id', 'player_fifa_api_id', 'preferred_foot', 'attacking_work_rate', 'defensive_work_rate',\n",
    "                   'crossing', 'jumping', 'sprint_speed','balance','aggression','short_passing', 'potential')\n",
    "player_att.columns"
   ]
  },
  {
   "cell_type": "code",
   "execution_count": 14,
   "metadata": {},
   "outputs": [],
   "source": [
    "#remove records with null values\n",
    "data = data.dropna()\n",
    "player_att =   player_att.dropna()"
   ]
  },
  {
   "cell_type": "code",
   "execution_count": 15,
   "metadata": {},
   "outputs": [
    {
     "data": {
      "text/plain": [
       "[11060, 181265]"
      ]
     },
     "execution_count": 15,
     "metadata": {},
     "output_type": "execute_result"
    }
   ],
   "source": [
    "#get the count of players from both the dataset\n",
    "[data.count() ,\n",
    "player_att.count()]"
   ]
  },
  {
   "cell_type": "code",
   "execution_count": 16,
   "metadata": {},
   "outputs": [],
   "source": [
    "from pyspark.sql.functions import udf"
   ]
  },
  {
   "cell_type": "code",
   "execution_count": 17,
   "metadata": {},
   "outputs": [
    {
     "name": "stdout",
     "output_type": "stream",
     "text": [
      "+----+\n",
      "|year|\n",
      "+----+\n",
      "|2016|\n",
      "|2015|\n",
      "|2015|\n",
      "|2015|\n",
      "|2007|\n",
      "|2016|\n",
      "|2016|\n",
      "|2016|\n",
      "|2015|\n",
      "|2015|\n",
      "|2015|\n",
      "|2015|\n",
      "|2015|\n",
      "|2015|\n",
      "|2014|\n",
      "|2014|\n",
      "|2014|\n",
      "|2014|\n",
      "|2014|\n",
      "|2014|\n",
      "+----+\n",
      "only showing top 20 rows\n",
      "\n"
     ]
    }
   ],
   "source": [
    "year_extract_udf = udf(lambda date: date.split('-')[0])\n",
    "player_att = player_att.withColumn('year', year_extract_udf(player_att.date))\n",
    "player_att.select('year').show()"
   ]
  },
  {
   "cell_type": "code",
   "execution_count": 18,
   "metadata": {},
   "outputs": [
    {
     "data": {
      "text/plain": [
       "['player_api_id',\n",
       " 'overall_rating',\n",
       " 'finishing',\n",
       " 'heading_accuracy',\n",
       " 'volleys',\n",
       " 'dribbling',\n",
       " 'curve',\n",
       " 'free_kick_accuracy',\n",
       " 'long_passing',\n",
       " 'ball_control',\n",
       " 'acceleration',\n",
       " 'agility',\n",
       " 'reactions',\n",
       " 'shot_power',\n",
       " 'stamina',\n",
       " 'strength',\n",
       " 'long_shots',\n",
       " 'interceptions',\n",
       " 'positioning',\n",
       " 'vision',\n",
       " 'penalties',\n",
       " 'marking',\n",
       " 'standing_tackle',\n",
       " 'sliding_tackle',\n",
       " 'gk_diving',\n",
       " 'gk_handling',\n",
       " 'gk_kicking',\n",
       " 'gk_positioning',\n",
       " 'gk_reflexes',\n",
       " 'year']"
      ]
     },
     "execution_count": 18,
     "metadata": {},
     "output_type": "execute_result"
    }
   ],
   "source": [
    "player_att = player_att.drop('date')\n",
    "player_att.columns"
   ]
  },
  {
   "cell_type": "code",
   "execution_count": 19,
   "metadata": {},
   "outputs": [
    {
     "data": {
      "text/plain": [
       "5586"
      ]
     },
     "execution_count": 19,
     "metadata": {},
     "output_type": "execute_result"
    }
   ],
   "source": [
    "#get the count of distinct players in year 2016\n",
    "pl_2016 = player_att.filter(player_att.year == 2016)\n",
    "pl_2016.select('player_api_id').distinct().count()"
   ]
  },
  {
   "cell_type": "code",
   "execution_count": 20,
   "metadata": {},
   "outputs": [
    {
     "name": "stdout",
     "output_type": "stream",
     "text": [
      "+-------------+-----------------+------------------+------------------+\n",
      "|player_api_id|   avg(finishing)| avg(acceleration)|   avg(shot_power)|\n",
      "+-------------+-----------------+------------------+------------------+\n",
      "|       309726|75.44444444444444| 74.11111111111111|              76.0|\n",
      "|        26112|             53.0|              51.0|              76.0|\n",
      "|        38433|            68.25|              74.0|              74.0|\n",
      "|       295060|             25.0|              62.0|              40.0|\n",
      "|       161396|             29.0|              72.0|              69.0|\n",
      "|        37774|             61.0|              64.0|              68.0|\n",
      "|        41157|             81.0|              87.0|              80.0|\n",
      "|        40740|             58.0|              73.5|              75.0|\n",
      "|        31432|             14.0|              59.0|              65.0|\n",
      "|       109653|             62.0|              65.0|              83.5|\n",
      "|       282680|             12.0|              33.0|              24.0|\n",
      "|       210428|             19.0|              69.0|              55.0|\n",
      "|       190851|             67.0|              74.0|              78.0|\n",
      "|       419238|             23.0|57.333333333333336|55.333333333333336|\n",
      "|       664587|             58.0|              74.0|              61.0|\n",
      "|       239352|             63.0|              83.0|              64.0|\n",
      "|       190801|             63.0|             63.75|              56.5|\n",
      "|       196957|             66.0|              76.0| 75.66666666666667|\n",
      "|       173922|             65.0|              78.0|              66.0|\n",
      "|       121080|             36.0|              72.0|              39.0|\n",
      "+-------------+-----------------+------------------+------------------+\n",
      "only showing top 20 rows\n",
      "\n"
     ]
    }
   ],
   "source": [
    "#get the striker characteristics \n",
    "pl_striker = pl_2016.groupBy('player_api_id').agg({'finishing' : 'avg', \"shot_power\":'avg','acceleration':'avg'})\n",
    "pl_striker.show()"
   ]
  },
  {
   "cell_type": "code",
   "execution_count": 21,
   "metadata": {},
   "outputs": [],
   "source": [
    " pl_striker = pl_striker.withColumnRenamed('avg(finishing)', 'finishing')\\\n",
    "            .withColumnRenamed('avg(shot_power)', 'shot_p')\\\n",
    "            .withColumnRenamed('avg(acceleration)', 'acc')"
   ]
  },
  {
   "cell_type": "code",
   "execution_count": 22,
   "metadata": {},
   "outputs": [
    {
     "data": {
      "text/plain": [
       "DataFrame[player_api_id: string, finishing: double, acc: double, shot_p: double, striker_grade: double]"
      ]
     },
     "execution_count": 22,
     "metadata": {},
     "output_type": "execute_result"
    }
   ],
   "source": [
    "  #give weights to these characteristics and find total capacity for each player\n",
    "wt_shotp = 2\n",
    "wt_finishing = 1\n",
    "wt_acc = 1\n",
    "total_wt = wt_shotp + wt_finishing + wt_acc\n",
    "strikers = pl_striker.withColumn('striker_grade', (pl_striker.finishing * wt_finishing\\\n",
    "                                + pl_striker.shot_p * wt_shotp\\\n",
    "                                + pl_striker.acc * wt_acc) / total_wt)\n",
    "strikers"
   ]
  },
  {
   "cell_type": "code",
   "execution_count": 23,
   "metadata": {},
   "outputs": [
    {
     "data": {
      "text/plain": [
       "['player_api_id', 'finishing', 'acc', 'shot_p', 'striker_grade']"
      ]
     },
     "execution_count": 23,
     "metadata": {},
     "output_type": "execute_result"
    }
   ],
   "source": [
    "strikers.columns"
   ]
  },
  {
   "cell_type": "code",
   "execution_count": 24,
   "metadata": {},
   "outputs": [
    {
     "name": "stdout",
     "output_type": "stream",
     "text": [
      "+-----------------+\n",
      "|    striker_grade|\n",
      "+-----------------+\n",
      "|75.38888888888889|\n",
      "|             64.0|\n",
      "|          72.5625|\n",
      "|            41.75|\n",
      "|            59.75|\n",
      "|            65.25|\n",
      "|             82.0|\n",
      "|           70.375|\n",
      "|            50.75|\n",
      "|             73.5|\n",
      "|            23.25|\n",
      "|             49.5|\n",
      "|            74.25|\n",
      "|47.75000000000001|\n",
      "|             63.5|\n",
      "|             68.5|\n",
      "|          59.9375|\n",
      "|73.33333333333334|\n",
      "|            68.75|\n",
      "|             46.5|\n",
      "+-----------------+\n",
      "only showing top 20 rows\n",
      "\n"
     ]
    }
   ],
   "source": [
    "strikers.select('striker_grade').show()"
   ]
  },
  {
   "cell_type": "code",
   "execution_count": 25,
   "metadata": {},
   "outputs": [
    {
     "data": {
      "text/plain": [
       "DataFrame[player_api_id: string, striker_grade: double]"
      ]
     },
     "execution_count": 25,
     "metadata": {},
     "output_type": "execute_result"
    }
   ],
   "source": [
    "#we can now drop unnecessary columns \n",
    "strikers.drop('finishing','acc','shot_p')"
   ]
  },
  {
   "cell_type": "code",
   "execution_count": 26,
   "metadata": {},
   "outputs": [],
   "source": [
    "strikers = strikers.filter(strikers.striker_grade > 70).sort(strikers.striker_grade.desc())"
   ]
  },
  {
   "cell_type": "code",
   "execution_count": 27,
   "metadata": {},
   "outputs": [
    {
     "name": "stdout",
     "output_type": "stream",
     "text": [
      "+-------------+-----------------+-----+-----------------+-----------------+\n",
      "|player_api_id|        finishing|  acc|           shot_p|    striker_grade|\n",
      "+-------------+-----------------+-----+-----------------+-----------------+\n",
      "|        20276|             85.0| 84.0|             94.0|            89.25|\n",
      "|        37412|             90.0| 92.0|             87.0|             89.0|\n",
      "|        38817|             88.0| 90.0|             88.5|            88.75|\n",
      "|        32118|             85.0| 82.0|             93.0|            88.25|\n",
      "|        31921|             81.0| 93.0|             87.0|             87.0|\n",
      "|        30834|             85.0| 90.0|             86.0|            86.75|\n",
      "|       303824|73.42857142857143| 91.0|             88.0|85.10714285714286|\n",
      "|       129944|             83.0| 89.0|             84.0|             85.0|\n",
      "|       158263|             77.0| 90.0|             86.0|            84.75|\n",
      "|       150565|             88.0| 95.0|             78.0|            84.75|\n",
      "|        25759|89.66666666666667| 79.0|             85.0|84.66666666666667|\n",
      "|       156726|             72.0| 96.0|             85.0|             84.5|\n",
      "|       169193|             86.0|87.25|            82.25|          84.4375|\n",
      "|       286119|79.85714285714286| 91.0|83.42857142857143|84.42857142857143|\n",
      "|        30348|             83.5| 78.0|             88.0|           84.375|\n",
      "|        46509|             75.0| 88.0|             87.0|            84.25|\n",
      "|        50047|            84.25|88.75|             82.0|            84.25|\n",
      "|        93447|             89.0| 79.0|             84.5|            84.25|\n",
      "|       181276|             84.0| 80.0|             86.0|             84.0|\n",
      "|       178812|             75.0| 91.0|             85.0|             84.0|\n",
      "+-------------+-----------------+-----+-----------------+-----------------+\n",
      "only showing top 20 rows\n",
      "\n"
     ]
    }
   ],
   "source": [
    "strikers.show()"
   ]
  },
  {
   "cell_type": "code",
   "execution_count": 28,
   "metadata": {},
   "outputs": [
    {
     "data": {
      "text/plain": [
       "['player_api_id',\n",
       " 'player_name',\n",
       " 'birthday',\n",
       " 'height',\n",
       " 'weight',\n",
       " 'player_api_id',\n",
       " 'finishing',\n",
       " 'acc',\n",
       " 'shot_p',\n",
       " 'striker_grade']"
      ]
     },
     "execution_count": 28,
     "metadata": {},
     "output_type": "execute_result"
    }
   ],
   "source": [
    "#get the players details with their names using join\n",
    "striker_details = data.join(strikers, data.player_api_id == strikers.player_api_id)\n",
    "striker_details.columns"
   ]
  },
  {
   "cell_type": "code",
   "execution_count": 29,
   "metadata": {},
   "outputs": [
    {
     "name": "stdout",
     "output_type": "stream",
     "text": [
      "+-------------+--------------------+-----------------+\n",
      "|player_api_id|         player_name|    striker_grade|\n",
      "+-------------+--------------------+-----------------+\n",
      "|        20276|                Hulk|            89.25|\n",
      "|        37412|       Sergio Aguero|             89.0|\n",
      "|        38817|        Carlos Tevez|            88.75|\n",
      "|        32118|      Lukas Podolski|            88.25|\n",
      "|        31921|         Gareth Bale|             87.0|\n",
      "|        30834|        Arjen Robben|            86.75|\n",
      "|       303824|       Memphis Depay|85.10714285714286|\n",
      "|       129944|          Marco Reus|             85.0|\n",
      "|       158263|        Dorlan Pabon|            84.75|\n",
      "|       150565|Pierre-Emerick Au...|            84.75|\n",
      "|        25759|     Gonzalo Higuain|84.66666666666667|\n",
      "|       156726|       Douglas Costa|             84.5|\n",
      "|       169193| Alexandre Lacazette|          84.4375|\n",
      "|       286119|         Jamie Vardy|84.42857142857143|\n",
      "|        30348|       Jermain Defoe|           84.375|\n",
      "|        46509|      Angel Di Maria|            84.25|\n",
      "|        93447|  Robert Lewandowski|            84.25|\n",
      "|        50047|      Alexis Sanchez|            84.25|\n",
      "|       181276|       Romelu Lukaku|             84.0|\n",
      "|       178812|     Andre Schuerrle|             84.0|\n",
      "+-------------+--------------------+-----------------+\n",
      "only showing top 20 rows\n",
      "\n"
     ]
    }
   ],
   "source": [
    "striker_details.select(strikers.player_api_id, 'player_name', 'striker_grade').show()"
   ]
  },
  {
   "cell_type": "code",
   "execution_count": 30,
   "metadata": {},
   "outputs": [],
   "source": [
    "#get the players details with their names using join(in other way).Here join column will come only once\n",
    "striker_details2 =  data.join(strikers, ['player_api_id'])"
   ]
  },
  {
   "cell_type": "code",
   "execution_count": 31,
   "metadata": {},
   "outputs": [
    {
     "name": "stdout",
     "output_type": "stream",
     "text": [
      "+-------------+--------------------+-----------------+\n",
      "|player_api_id|         player_name|    striker_grade|\n",
      "+-------------+--------------------+-----------------+\n",
      "|        20276|                Hulk|            89.25|\n",
      "|        37412|       Sergio Aguero|             89.0|\n",
      "|        38817|        Carlos Tevez|            88.75|\n",
      "|        32118|      Lukas Podolski|            88.25|\n",
      "|        31921|         Gareth Bale|             87.0|\n",
      "|        30834|        Arjen Robben|            86.75|\n",
      "|       303824|       Memphis Depay|85.10714285714286|\n",
      "|       129944|          Marco Reus|             85.0|\n",
      "|       158263|        Dorlan Pabon|            84.75|\n",
      "|       150565|Pierre-Emerick Au...|            84.75|\n",
      "|        25759|     Gonzalo Higuain|84.66666666666667|\n",
      "|       156726|       Douglas Costa|             84.5|\n",
      "|       169193| Alexandre Lacazette|          84.4375|\n",
      "|       286119|         Jamie Vardy|84.42857142857143|\n",
      "|        30348|       Jermain Defoe|           84.375|\n",
      "|        46509|      Angel Di Maria|            84.25|\n",
      "|        93447|  Robert Lewandowski|            84.25|\n",
      "|        50047|      Alexis Sanchez|            84.25|\n",
      "|       181276|       Romelu Lukaku|             84.0|\n",
      "|       178812|     Andre Schuerrle|             84.0|\n",
      "+-------------+--------------------+-----------------+\n",
      "only showing top 20 rows\n",
      "\n"
     ]
    }
   ],
   "source": [
    "striker_details2.select('player_api_id', 'player_name', 'striker_grade').show()"
   ]
  },
  {
   "cell_type": "code",
   "execution_count": 32,
   "metadata": {},
   "outputs": [],
   "source": [
    "from pyspark.sql.functions import broadcast"
   ]
  },
  {
   "cell_type": "code",
   "execution_count": 33,
   "metadata": {},
   "outputs": [
    {
     "data": {
      "text/plain": [
       "[11060, 1609]"
      ]
     },
     "execution_count": 33,
     "metadata": {},
     "output_type": "execute_result"
    }
   ],
   "source": [
    "[data.count(), strikers.count()]"
   ]
  },
  {
   "cell_type": "code",
   "execution_count": 34,
   "metadata": {},
   "outputs": [],
   "source": [
    "#as strikers data is smaller we can broadcast it on worker nodes\n",
    "striker_details3 = data.select('player_api_id', 'player_name')\\\n",
    "                    .join(\n",
    "                    broadcast(strikers),\n",
    "                    ['player_api_id'],\n",
    "                    'inner'\n",
    "                        )"
   ]
  },
  {
   "cell_type": "raw",
   "metadata": {},
   "source": []
  },
  {
   "cell_type": "code",
   "execution_count": 35,
   "metadata": {},
   "outputs": [
    {
     "name": "stdout",
     "output_type": "stream",
     "text": [
      "+-------------+--------------------+-----------------+-----+-----------------+-----------------+\n",
      "|player_api_id|         player_name|        finishing|  acc|           shot_p|    striker_grade|\n",
      "+-------------+--------------------+-----------------+-----+-----------------+-----------------+\n",
      "|        20276|                Hulk|             85.0| 84.0|             94.0|            89.25|\n",
      "|        37412|       Sergio Aguero|             90.0| 92.0|             87.0|             89.0|\n",
      "|        38817|        Carlos Tevez|             88.0| 90.0|             88.5|            88.75|\n",
      "|        32118|      Lukas Podolski|             85.0| 82.0|             93.0|            88.25|\n",
      "|        31921|         Gareth Bale|             81.0| 93.0|             87.0|             87.0|\n",
      "|        30834|        Arjen Robben|             85.0| 90.0|             86.0|            86.75|\n",
      "|       303824|       Memphis Depay|73.42857142857143| 91.0|             88.0|85.10714285714286|\n",
      "|       129944|          Marco Reus|             83.0| 89.0|             84.0|             85.0|\n",
      "|       158263|        Dorlan Pabon|             77.0| 90.0|             86.0|            84.75|\n",
      "|       150565|Pierre-Emerick Au...|             88.0| 95.0|             78.0|            84.75|\n",
      "|        25759|     Gonzalo Higuain|89.66666666666667| 79.0|             85.0|84.66666666666667|\n",
      "|       156726|       Douglas Costa|             72.0| 96.0|             85.0|             84.5|\n",
      "|       169193| Alexandre Lacazette|             86.0|87.25|            82.25|          84.4375|\n",
      "|       286119|         Jamie Vardy|79.85714285714286| 91.0|83.42857142857143|84.42857142857143|\n",
      "|        30348|       Jermain Defoe|             83.5| 78.0|             88.0|           84.375|\n",
      "|        46509|      Angel Di Maria|             75.0| 88.0|             87.0|            84.25|\n",
      "|        93447|  Robert Lewandowski|             89.0| 79.0|             84.5|            84.25|\n",
      "|        50047|      Alexis Sanchez|            84.25|88.75|             82.0|            84.25|\n",
      "|       178812|     Andre Schuerrle|             75.0| 91.0|             85.0|             84.0|\n",
      "|       181276|       Romelu Lukaku|             84.0| 80.0|             86.0|             84.0|\n",
      "+-------------+--------------------+-----------------+-----+-----------------+-----------------+\n",
      "only showing top 20 rows\n",
      "\n"
     ]
    }
   ],
   "source": [
    "striker_details3.sort(striker_details3.striker_grade.\n",
    "                     desc()).show()"
   ]
  },
  {
   "cell_type": "code",
   "execution_count": 36,
   "metadata": {},
   "outputs": [
    {
     "data": {
      "text/plain": [
       "[11060, 181265]"
      ]
     },
     "execution_count": 36,
     "metadata": {},
     "output_type": "execute_result"
    }
   ],
   "source": [
    "#get count of player and player attributes tables \n",
    "[data.count(), player_att.count()]"
   ]
  },
  {
   "cell_type": "code",
   "execution_count": 37,
   "metadata": {},
   "outputs": [],
   "source": [
    "#as player's data is less, broadcast it all worker nodes\n",
    "player_heading_accuracy = player_att.select('player_api_id', 'heading_accuracy')\\\n",
    "                    .join(\n",
    "                    broadcast(data),\n",
    "                    ['player_api_id'],\n",
    "                    'inner'\n",
    "                        )"
   ]
  },
  {
   "cell_type": "code",
   "execution_count": 38,
   "metadata": {},
   "outputs": [
    {
     "name": "stdout",
     "output_type": "stream",
     "text": [
      "+-------------+----------------+------------------+-------------------+------+------+\n",
      "|player_api_id|heading_accuracy|       player_name|           birthday|height|weight|\n",
      "+-------------+----------------+------------------+-------------------+------+------+\n",
      "|       505942|              71|Aaron Appindangoye|1992-02-29 00:00:00|182.88|   187|\n",
      "|       505942|              71|Aaron Appindangoye|1992-02-29 00:00:00|182.88|   187|\n",
      "|       505942|              71|Aaron Appindangoye|1992-02-29 00:00:00|182.88|   187|\n",
      "|       505942|              70|Aaron Appindangoye|1992-02-29 00:00:00|182.88|   187|\n",
      "|       505942|              70|Aaron Appindangoye|1992-02-29 00:00:00|182.88|   187|\n",
      "|       155782|              58|   Aaron Cresswell|1989-12-15 00:00:00|170.18|   146|\n",
      "|       155782|              58|   Aaron Cresswell|1989-12-15 00:00:00|170.18|   146|\n",
      "|       155782|              57|   Aaron Cresswell|1989-12-15 00:00:00|170.18|   146|\n",
      "|       155782|              57|   Aaron Cresswell|1989-12-15 00:00:00|170.18|   146|\n",
      "|       155782|              57|   Aaron Cresswell|1989-12-15 00:00:00|170.18|   146|\n",
      "|       155782|              57|   Aaron Cresswell|1989-12-15 00:00:00|170.18|   146|\n",
      "|       155782|              57|   Aaron Cresswell|1989-12-15 00:00:00|170.18|   146|\n",
      "|       155782|              57|   Aaron Cresswell|1989-12-15 00:00:00|170.18|   146|\n",
      "|       155782|              56|   Aaron Cresswell|1989-12-15 00:00:00|170.18|   146|\n",
      "|       155782|              56|   Aaron Cresswell|1989-12-15 00:00:00|170.18|   146|\n",
      "|       155782|              56|   Aaron Cresswell|1989-12-15 00:00:00|170.18|   146|\n",
      "|       155782|              51|   Aaron Cresswell|1989-12-15 00:00:00|170.18|   146|\n",
      "|       155782|              51|   Aaron Cresswell|1989-12-15 00:00:00|170.18|   146|\n",
      "|       155782|              51|   Aaron Cresswell|1989-12-15 00:00:00|170.18|   146|\n",
      "|       155782|              51|   Aaron Cresswell|1989-12-15 00:00:00|170.18|   146|\n",
      "+-------------+----------------+------------------+-------------------+------+------+\n",
      "only showing top 20 rows\n",
      "\n"
     ]
    }
   ],
   "source": [
    "player_heading_accuracy.show()"
   ]
  },
  {
   "cell_type": "code",
   "execution_count": 39,
   "metadata": {},
   "outputs": [],
   "source": [
    "#set accumulators to be broadcasted for computing across worker nodes for range of heights\n",
    "short_count = spark.sparkContext.accumulator(0)\n",
    "med_low_count = spark.sparkContext.accumulator(0)\n",
    "med_high_count = spark.sparkContext.accumulator(0)\n",
    "high_count = spark.sparkContext.accumulator(0)"
   ]
  },
  {
   "cell_type": "code",
   "execution_count": 40,
   "metadata": {},
   "outputs": [],
   "source": [
    "def count_players_by_ht(row):\n",
    "    ht = float(row.height)\n",
    "    if (ht <= 175):\n",
    "        short_count.add(1)\n",
    "    elif (ht <= 183 and ht > 175):\n",
    "        med_low_count.add(1)\n",
    "    elif (ht <= 195 and ht > 183):\n",
    "        med_high_count.add(1)\n",
    "    elif (ht > 195):\n",
    "        high_count.add(1)"
   ]
  },
  {
   "cell_type": "code",
   "execution_count": 41,
   "metadata": {},
   "outputs": [
    {
     "data": {
      "text/plain": [
       "[Accumulator<id=0, value=18977>,\n",
       " Accumulator<id=1, value=97399>,\n",
       " Accumulator<id=2, value=61518>,\n",
       " Accumulator<id=3, value=3371>]"
      ]
     },
     "execution_count": 41,
     "metadata": {},
     "output_type": "execute_result"
    }
   ],
   "source": [
    "#apply count_players_by_ht function to all records in player_heading_accuracy\n",
    "player_heading_accuracy.foreach(lambda x: count_players_by_ht(x))\n",
    "all_players = [short_count, med_low_count, med_high_count, high_count]\n",
    "all_players"
   ]
  },
  {
   "cell_type": "code",
   "execution_count": 42,
   "metadata": {},
   "outputs": [],
   "source": [
    "#set accumulators for heading accuracy\n",
    "short_count_ha = spark.sparkContext.accumulator(0)\n",
    "med_low_count_ha = spark.sparkContext.accumulator(0)\n",
    "med_high_count_ha = spark.sparkContext.accumulator(0)\n",
    "high_count_ha = spark.sparkContext.accumulator(0)"
   ]
  },
  {
   "cell_type": "code",
   "execution_count": 46,
   "metadata": {},
   "outputs": [],
   "source": [
    "def count_players_by_ht_ha(row, threshold_score):\n",
    "    ht = float(row.height)\n",
    "    ha = float(row.heading_accuracy)\n",
    "    if (ha <= threshold_score):\n",
    "        return\n",
    "    if (ht <= 175):\n",
    "        short_count_ha.add(1)\n",
    "    elif (ht <= 183 and ht > 175):\n",
    "        med_low_count_ha.add(1)\n",
    "    elif (ht <= 195 and ht > 183):\n",
    "        med_high_count_ha.add(1)\n",
    "    elif (ht > 195):\n",
    "        high_count_ha.add(1)"
   ]
  },
  {
   "cell_type": "code",
   "execution_count": 47,
   "metadata": {},
   "outputs": [
    {
     "data": {
      "text/plain": [
       "[Accumulator<id=4, value=3653>,\n",
       " Accumulator<id=5, value=41448>,\n",
       " Accumulator<id=6, value=40270>,\n",
       " Accumulator<id=7, value=1573>]"
      ]
     },
     "execution_count": 47,
     "metadata": {},
     "output_type": "execute_result"
    }
   ],
   "source": [
    "player_heading_accuracy.foreach(lambda x: count_players_by_ht_ha(x,60))\n",
    "all_players_above_ha = [short_count_ha, med_low_count_ha, med_high_count_ha, high_count_ha]\n",
    "all_players_above_ha"
   ]
  },
  {
   "cell_type": "code",
   "execution_count": 50,
   "metadata": {},
   "outputs": [
    {
     "data": {
      "text/plain": [
       "[16.14228899690676, 29.851563231470614, 39.56262034817464, 31.8163430420712]"
      ]
     },
     "execution_count": 50,
     "metadata": {},
     "output_type": "execute_result"
    }
   ],
   "source": [
    "#percentage of players with high heading accuracy bucketed by height\n",
    "percentage_value = [short_count_ha.value/short_count.value * 100,\n",
    "                    med_low_count_ha.value/med_low_count.value * 100,\n",
    "                    med_high_count_ha.value/med_high_count.value * 100,\n",
    "                    high_count_ha.value/ high_count.value * 100]\n",
    "percentage_value"
   ]
  },
  {
   "cell_type": "code",
   "execution_count": 51,
   "metadata": {},
   "outputs": [
    {
     "data": {
      "text/plain": [
       "['player_api_id',\n",
       " 'overall_rating',\n",
       " 'finishing',\n",
       " 'heading_accuracy',\n",
       " 'volleys',\n",
       " 'dribbling',\n",
       " 'curve',\n",
       " 'free_kick_accuracy',\n",
       " 'long_passing',\n",
       " 'ball_control',\n",
       " 'acceleration',\n",
       " 'agility',\n",
       " 'reactions',\n",
       " 'shot_power',\n",
       " 'stamina',\n",
       " 'strength',\n",
       " 'long_shots',\n",
       " 'interceptions',\n",
       " 'positioning',\n",
       " 'vision',\n",
       " 'penalties',\n",
       " 'marking',\n",
       " 'standing_tackle',\n",
       " 'sliding_tackle',\n",
       " 'gk_diving',\n",
       " 'gk_handling',\n",
       " 'gk_kicking',\n",
       " 'gk_positioning',\n",
       " 'gk_reflexes',\n",
       " 'year']"
      ]
     },
     "execution_count": 51,
     "metadata": {},
     "output_type": "execute_result"
    }
   ],
   "source": [
    "pl_2016.columns"
   ]
  },
  {
   "cell_type": "code",
   "execution_count": 52,
   "metadata": {},
   "outputs": [],
   "source": [
    "#store players 2016 dataframe into .json and .csv files --(coalesce for repartitioning data into no. of partition files we want)\n",
    "pl_2016.select('player_api_id', 'overall_rating').coalesce(1).write\\\n",
    "        .option('header', 'true').csv('player_rating.csv')"
   ]
  },
  {
   "cell_type": "code",
   "execution_count": 53,
   "metadata": {},
   "outputs": [],
   "source": [
    "pl_2016.select('player_api_id', 'overall_rating').write\\\n",
    "        .option('header', 'true').csv('player_rating.json')"
   ]
  },
  {
   "cell_type": "code",
   "execution_count": null,
   "metadata": {},
   "outputs": [],
   "source": []
  }
 ],
 "metadata": {
  "kernelspec": {
   "display_name": "Python 3",
   "language": "python",
   "name": "python3"
  },
  "language_info": {
   "codemirror_mode": {
    "name": "ipython",
    "version": 3
   },
   "file_extension": ".py",
   "mimetype": "text/x-python",
   "name": "python",
   "nbconvert_exporter": "python",
   "pygments_lexer": "ipython3",
   "version": "3.6.5"
  }
 },
 "nbformat": 4,
 "nbformat_minor": 2
}
