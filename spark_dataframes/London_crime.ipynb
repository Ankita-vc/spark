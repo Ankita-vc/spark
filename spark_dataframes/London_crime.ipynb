{
 "cells": [
  {
   "cell_type": "code",
   "execution_count": 2,
   "metadata": {},
   "outputs": [],
   "source": [
    "from pyspark.sql import SparkSession"
   ]
  },
  {
   "cell_type": "code",
   "execution_count": 3,
   "metadata": {},
   "outputs": [],
   "source": [
    "spark = SparkSession.builder.appName(\"London crime dataset analysis\").getOrCreate()"
   ]
  },
  {
   "cell_type": "code",
   "execution_count": 4,
   "metadata": {},
   "outputs": [],
   "source": [
    "data = spark.read.format('csv').option('header', True).load('london_crime_by_lsoa.csv')"
   ]
  },
  {
   "cell_type": "code",
   "execution_count": 5,
   "metadata": {},
   "outputs": [
    {
     "name": "stdout",
     "output_type": "stream",
     "text": [
      "+---------+--------------------+--------------------+--------------------+-----+----+-----+\n",
      "|lsoa_code|             borough|      major_category|      minor_category|value|year|month|\n",
      "+---------+--------------------+--------------------+--------------------+-----+----+-----+\n",
      "|E01001116|             Croydon|            Burglary|Burglary in Other...|    0|2016|   11|\n",
      "|E01001646|           Greenwich|Violence Against ...|      Other violence|    0|2016|   11|\n",
      "|E01000677|             Bromley|Violence Against ...|      Other violence|    0|2015|    5|\n",
      "|E01003774|           Redbridge|            Burglary|Burglary in Other...|    0|2016|    3|\n",
      "|E01004563|          Wandsworth|             Robbery|   Personal Property|    0|2008|    6|\n",
      "|E01001320|              Ealing|  Theft and Handling|         Other Theft|    0|2012|    5|\n",
      "|E01001342|              Ealing|Violence Against ...|    Offensive Weapon|    0|2010|    7|\n",
      "|E01002633|            Hounslow|             Robbery|   Personal Property|    0|2013|    4|\n",
      "|E01003496|              Newham|     Criminal Damage|Criminal Damage T...|    0|2013|    9|\n",
      "|E01004177|              Sutton|  Theft and Handling|Theft/Taking of P...|    1|2016|    8|\n",
      "|E01001985|            Haringey|  Theft and Handling|Motor Vehicle Int...|    0|2013|   12|\n",
      "|E01003076|             Lambeth|Violence Against ...|      Other violence|    0|2015|    4|\n",
      "|E01003852|Richmond upon Thames|             Robbery|   Personal Property|    0|2014|    1|\n",
      "|E01004547|          Wandsworth|Violence Against ...|    Offensive Weapon|    0|2011|   10|\n",
      "|E01002398|          Hillingdon|  Theft and Handling|Theft/Taking Of M...|    0|2016|    2|\n",
      "|E01002358|            Havering|Violence Against ...|        Wounding/GBH|    0|2012|    2|\n",
      "|E01000086|Barking and Dagenham|  Theft and Handling|  Other Theft Person|    1|2009|    5|\n",
      "|E01003708|           Redbridge|Violence Against ...|      Common Assault|    0|2009|    6|\n",
      "|E01002945|Kingston upon Thames|  Theft and Handling|    Theft From Shops|    0|2016|   11|\n",
      "|E01004195|              Sutton|               Drugs| Possession Of Drugs|    0|2009|   10|\n",
      "+---------+--------------------+--------------------+--------------------+-----+----+-----+\n",
      "only showing top 20 rows\n",
      "\n"
     ]
    }
   ],
   "source": [
    "data.show()"
   ]
  },
  {
   "cell_type": "code",
   "execution_count": 6,
   "metadata": {},
   "outputs": [
    {
     "name": "stdout",
     "output_type": "stream",
     "text": [
      "root\n",
      " |-- lsoa_code: string (nullable = true)\n",
      " |-- borough: string (nullable = true)\n",
      " |-- major_category: string (nullable = true)\n",
      " |-- minor_category: string (nullable = true)\n",
      " |-- value: string (nullable = true)\n",
      " |-- year: string (nullable = true)\n",
      " |-- month: string (nullable = true)\n",
      "\n"
     ]
    }
   ],
   "source": [
    "#print schema of the data\n",
    "data.printSchema()"
   ]
  },
  {
   "cell_type": "code",
   "execution_count": 7,
   "metadata": {},
   "outputs": [
    {
     "data": {
      "text/plain": [
       "13490604"
      ]
     },
     "execution_count": 7,
     "metadata": {},
     "output_type": "execute_result"
    }
   ],
   "source": [
    "data.count()"
   ]
  },
  {
   "cell_type": "code",
   "execution_count": 8,
   "metadata": {},
   "outputs": [
    {
     "name": "stdout",
     "output_type": "stream",
     "text": [
      "+---------+----------+--------------------+--------------------+-----+----+-----+\n",
      "|lsoa_code|   borough|      major_category|      minor_category|value|year|month|\n",
      "+---------+----------+--------------------+--------------------+-----+----+-----+\n",
      "|E01001116|   Croydon|            Burglary|Burglary in Other...|    0|2016|   11|\n",
      "|E01001646| Greenwich|Violence Against ...|      Other violence|    0|2016|   11|\n",
      "|E01000677|   Bromley|Violence Against ...|      Other violence|    0|2015|    5|\n",
      "|E01003774| Redbridge|            Burglary|Burglary in Other...|    0|2016|    3|\n",
      "|E01004563|Wandsworth|             Robbery|   Personal Property|    0|2008|    6|\n",
      "+---------+----------+--------------------+--------------------+-----+----+-----+\n",
      "\n"
     ]
    }
   ],
   "source": [
    "data.limit(5).show()"
   ]
  },
  {
   "cell_type": "code",
   "execution_count": 9,
   "metadata": {},
   "outputs": [
    {
     "data": {
      "text/plain": [
       "DataFrame[lsoa_code: string, borough: string, major_category: string, minor_category: string, value: string, year: string, month: string]"
      ]
     },
     "execution_count": 9,
     "metadata": {},
     "output_type": "execute_result"
    }
   ],
   "source": [
    "#drop record with null values\n",
    "data.dropna()"
   ]
  },
  {
   "cell_type": "code",
   "execution_count": 10,
   "metadata": {},
   "outputs": [],
   "source": [
    "#drop columns which are not needed so that processing gets faster\n",
    "data = data.drop('lsoa_code')"
   ]
  },
  {
   "cell_type": "code",
   "execution_count": 20,
   "metadata": {},
   "outputs": [
    {
     "name": "stdout",
     "output_type": "stream",
     "text": [
      "+--------------------+--------------------+--------------------+-----+----+-----+\n",
      "|             borough|      major_category|      minor_category|value|year|month|\n",
      "+--------------------+--------------------+--------------------+-----+----+-----+\n",
      "|             Croydon|            Burglary|Burglary in Other...|    0|2016|   11|\n",
      "|           Greenwich|Violence Against ...|      Other violence|    0|2016|   11|\n",
      "|             Bromley|Violence Against ...|      Other violence|    0|2015|    5|\n",
      "|           Redbridge|            Burglary|Burglary in Other...|    0|2016|    3|\n",
      "|          Wandsworth|             Robbery|   Personal Property|    0|2008|    6|\n",
      "|              Ealing|  Theft and Handling|         Other Theft|    0|2012|    5|\n",
      "|              Ealing|Violence Against ...|    Offensive Weapon|    0|2010|    7|\n",
      "|            Hounslow|             Robbery|   Personal Property|    0|2013|    4|\n",
      "|              Newham|     Criminal Damage|Criminal Damage T...|    0|2013|    9|\n",
      "|              Sutton|  Theft and Handling|Theft/Taking of P...|    1|2016|    8|\n",
      "|            Haringey|  Theft and Handling|Motor Vehicle Int...|    0|2013|   12|\n",
      "|             Lambeth|Violence Against ...|      Other violence|    0|2015|    4|\n",
      "|Richmond upon Thames|             Robbery|   Personal Property|    0|2014|    1|\n",
      "|          Wandsworth|Violence Against ...|    Offensive Weapon|    0|2011|   10|\n",
      "|          Hillingdon|  Theft and Handling|Theft/Taking Of M...|    0|2016|    2|\n",
      "|            Havering|Violence Against ...|        Wounding/GBH|    0|2012|    2|\n",
      "|Barking and Dagenham|  Theft and Handling|  Other Theft Person|    1|2009|    5|\n",
      "|           Redbridge|Violence Against ...|      Common Assault|    0|2009|    6|\n",
      "|Kingston upon Thames|  Theft and Handling|    Theft From Shops|    0|2016|   11|\n",
      "|              Sutton|               Drugs| Possession Of Drugs|    0|2009|   10|\n",
      "+--------------------+--------------------+--------------------+-----+----+-----+\n",
      "only showing top 20 rows\n",
      "\n"
     ]
    }
   ],
   "source": [
    "data.show()"
   ]
  },
  {
   "cell_type": "code",
   "execution_count": 22,
   "metadata": {},
   "outputs": [],
   "source": [
    "distinct_borough = data.select('borough').distinct()"
   ]
  },
  {
   "cell_type": "code",
   "execution_count": 24,
   "metadata": {},
   "outputs": [
    {
     "name": "stdout",
     "output_type": "stream",
     "text": [
      "+--------------------+\n",
      "|             borough|\n",
      "+--------------------+\n",
      "|             Croydon|\n",
      "|          Wandsworth|\n",
      "|              Bexley|\n",
      "|             Lambeth|\n",
      "|Barking and Dagenham|\n",
      "|              Camden|\n",
      "|           Greenwich|\n",
      "|              Newham|\n",
      "|       Tower Hamlets|\n",
      "|            Hounslow|\n",
      "|              Barnet|\n",
      "|              Harrow|\n",
      "|Kensington and Ch...|\n",
      "|           Islington|\n",
      "|               Brent|\n",
      "|            Haringey|\n",
      "|             Bromley|\n",
      "|              Merton|\n",
      "|         Westminster|\n",
      "|             Hackney|\n",
      "+--------------------+\n",
      "only showing top 20 rows\n",
      "\n"
     ]
    }
   ],
   "source": [
    "distinct_borough.show()"
   ]
  },
  {
   "cell_type": "code",
   "execution_count": 26,
   "metadata": {},
   "outputs": [
    {
     "name": "stdout",
     "output_type": "stream",
     "text": [
      "+-------+--------------------+--------------------+-----+----+-----+\n",
      "|borough|      major_category|      minor_category|value|year|month|\n",
      "+-------+--------------------+--------------------+-----+----+-----+\n",
      "|Hackney|     Criminal Damage|Criminal Damage T...|    0|2011|    6|\n",
      "|Hackney|Violence Against ...|          Harassment|    1|2013|    2|\n",
      "|Hackney|     Criminal Damage|Other Criminal Da...|    0|2011|    7|\n",
      "|Hackney|Violence Against ...|        Wounding/GBH|    0|2013|   12|\n",
      "|Hackney|  Theft and Handling|  Other Theft Person|    0|2016|    8|\n",
      "|Hackney|            Burglary|Burglary in a Dwe...|    2|2008|    5|\n",
      "|Hackney|             Robbery|   Business Property|    0|2016|    7|\n",
      "|Hackney|  Theft and Handling|Theft/Taking of P...|    0|2009|   12|\n",
      "|Hackney|               Drugs|    Drug Trafficking|    0|2014|    4|\n",
      "|Hackney|  Theft and Handling|Handling Stolen G...|    0|2014|    6|\n",
      "|Hackney|            Burglary|Burglary in Other...|    0|2008|   12|\n",
      "|Hackney|Violence Against ...| Assault with Injury|    0|2010|    1|\n",
      "|Hackney|  Theft and Handling|  Other Theft Person|    0|2008|    8|\n",
      "|Hackney|Violence Against ...| Assault with Injury|    2|2015|    5|\n",
      "|Hackney|  Theft and Handling|Theft/Taking Of M...|    0|2009|   12|\n",
      "|Hackney|Violence Against ...|    Offensive Weapon|    0|2015|    9|\n",
      "|Hackney|Violence Against ...|          Harassment|    2|2008|   10|\n",
      "|Hackney|Violence Against ...|          Harassment|    0|2015|    3|\n",
      "|Hackney|  Theft and Handling|  Other Theft Person|    1|2009|    5|\n",
      "|Hackney|Other Notifiable ...|    Other Notifiable|    0|2008|    9|\n",
      "+-------+--------------------+--------------------+-----+----+-----+\n",
      "only showing top 20 rows\n",
      "\n"
     ]
    }
   ],
   "source": [
    "Hackney_data = data.filter(data['borough'] == 'Hackney')\n",
    "Hackney_data.show()"
   ]
  },
  {
   "cell_type": "code",
   "execution_count": 31,
   "metadata": {},
   "outputs": [
    {
     "name": "stdout",
     "output_type": "stream",
     "text": [
      "+--------------------+--------------------+--------------------+-----+----+-----+\n",
      "|             borough|      major_category|      minor_category|value|year|month|\n",
      "+--------------------+--------------------+--------------------+-----+----+-----+\n",
      "|            Haringey|Violence Against ...|        Wounding/GBH|    0|2015|   12|\n",
      "|              Ealing|             Robbery|   Personal Property|    0|2015|    7|\n",
      "|           Greenwich|            Burglary|Burglary in Other...|    0|2016|   11|\n",
      "|             Croydon|             Robbery|   Personal Property|    0|2016|    1|\n",
      "|              Newham|  Theft and Handling|Theft/Taking of P...|    0|2016|    3|\n",
      "|            Havering|            Burglary|Burglary in a Dwe...|    1|2016|    8|\n",
      "|             Croydon|  Theft and Handling|Motor Vehicle Int...|    0|2016|    3|\n",
      "|           Islington|     Sexual Offences|        Other Sexual|    0|2016|   10|\n",
      "|      Waltham Forest|Violence Against ...|      Other violence|    0|2016|    9|\n",
      "|       Tower Hamlets|             Robbery|   Personal Property|    0|2016|   10|\n",
      "|               Brent|  Theft and Handling|  Other Theft Person|    1|2016|   12|\n",
      "|           Islington|            Burglary|Burglary in Other...|    1|2016|    7|\n",
      "|              Merton|Violence Against ...|          Harassment|    0|2015|    5|\n",
      "|              Barnet|            Burglary|Burglary in a Dwe...|    1|2015|    8|\n",
      "|Kingston upon Thames|  Theft and Handling|Motor Vehicle Int...|    1|2015|   12|\n",
      "|           Redbridge|     Criminal Damage|Criminal Damage T...|    0|2015|    9|\n",
      "|Hammersmith and F...|  Theft and Handling|Theft/Taking of P...|    0|2015|    7|\n",
      "|Hammersmith and F...|Violence Against ...|    Offensive Weapon|    0|2015|    6|\n",
      "|              Newham|Violence Against ...|    Offensive Weapon|    0|2016|    6|\n",
      "|          Hillingdon|  Theft and Handling|         Other Theft|    0|2015|    7|\n",
      "+--------------------+--------------------+--------------------+-----+----+-----+\n",
      "only showing top 20 rows\n",
      "\n"
     ]
    }
   ],
   "source": [
    "data_2015_16 = data.filter(data['year'].isin(['2015','2016']))\n",
    "data_2015_16.sample(fraction = 0.1).show()"
   ]
  },
  {
   "cell_type": "code",
   "execution_count": 38,
   "metadata": {},
   "outputs": [
    {
     "name": "stdout",
     "output_type": "stream",
     "text": [
      "+--------------------+------+\n",
      "|             borough| count|\n",
      "+--------------------+------+\n",
      "|             Croydon|602100|\n",
      "|          Wandsworth|498636|\n",
      "|              Bexley|385668|\n",
      "|             Lambeth|519048|\n",
      "|Barking and Dagenham|311040|\n",
      "|              Camden|378432|\n",
      "|           Greenwich|421200|\n",
      "|              Newham|471420|\n",
      "|       Tower Hamlets|412128|\n",
      "|            Hounslow|395928|\n",
      "|              Barnet|572832|\n",
      "|              Harrow|365688|\n",
      "|Kensington and Ch...|296784|\n",
      "|           Islington|359208|\n",
      "|               Brent|490644|\n",
      "|            Haringey|413856|\n",
      "|             Bromley|523908|\n",
      "|              Merton|339876|\n",
      "|         Westminster|366660|\n",
      "|             Hackney|417744|\n",
      "+--------------------+------+\n",
      "only showing top 20 rows\n",
      "\n"
     ]
    }
   ],
   "source": [
    "#group over borough column and find corresponding count \n",
    "borough_count = data.groupBy('borough').count()\n",
    "borough_count.show()"
   ]
  },
  {
   "cell_type": "code",
   "execution_count": 43,
   "metadata": {},
   "outputs": [
    {
     "name": "stdout",
     "output_type": "stream",
     "text": [
      "+--------------------+----------+\n",
      "|             borough|sum(value)|\n",
      "+--------------------+----------+\n",
      "|             Croydon|  260294.0|\n",
      "|          Wandsworth|  204741.0|\n",
      "|              Bexley|  114136.0|\n",
      "|             Lambeth|  292178.0|\n",
      "|Barking and Dagenham|  149447.0|\n",
      "+--------------------+----------+\n",
      "only showing top 5 rows\n",
      "\n"
     ]
    }
   ],
   "source": [
    "borough_conviction_sum = data.groupBy('borough').agg({'value':'sum'})\n",
    "borough_conviction_sum.show(5)"
   ]
  },
  {
   "cell_type": "code",
   "execution_count": 45,
   "metadata": {},
   "outputs": [],
   "source": [
    "borough_conviction = data.groupBy('borough').agg({'value':'sum'})\\\n",
    "                        .withColumnRenamed('sum(value)', 'convictions')"
   ]
  },
  {
   "cell_type": "code",
   "execution_count": 46,
   "metadata": {},
   "outputs": [
    {
     "name": "stdout",
     "output_type": "stream",
     "text": [
      "+--------------------+-----------+\n",
      "|             borough|convictions|\n",
      "+--------------------+-----------+\n",
      "|             Croydon|   260294.0|\n",
      "|          Wandsworth|   204741.0|\n",
      "|              Bexley|   114136.0|\n",
      "|             Lambeth|   292178.0|\n",
      "|Barking and Dagenham|   149447.0|\n",
      "|              Camden|   275147.0|\n",
      "|           Greenwich|   181568.0|\n",
      "|              Newham|   262024.0|\n",
      "|       Tower Hamlets|   228613.0|\n",
      "|            Hounslow|   186772.0|\n",
      "|              Barnet|   212191.0|\n",
      "|              Harrow|   116848.0|\n",
      "|Kensington and Ch...|   171981.0|\n",
      "|           Islington|   230286.0|\n",
      "|               Brent|   227551.0|\n",
      "|            Haringey|   213272.0|\n",
      "|             Bromley|   184349.0|\n",
      "|              Merton|   115654.0|\n",
      "|         Westminster|   455028.0|\n",
      "|             Hackney|   217119.0|\n",
      "+--------------------+-----------+\n",
      "only showing top 20 rows\n",
      "\n"
     ]
    }
   ],
   "source": [
    "borough_conviction.show()"
   ]
  },
  {
   "cell_type": "code",
   "execution_count": 49,
   "metadata": {},
   "outputs": [
    {
     "name": "stdout",
     "output_type": "stream",
     "text": [
      "+----------------+\n",
      "|sum(convictions)|\n",
      "+----------------+\n",
      "|       6447758.0|\n",
      "+----------------+\n",
      "\n"
     ]
    }
   ],
   "source": [
    "#total no. of convictions over all boroghs\n",
    "borough_conviction.agg({'convictions' : 'sum'}).show()"
   ]
  },
  {
   "cell_type": "code",
   "execution_count": 52,
   "metadata": {},
   "outputs": [],
   "source": [
    "total_convictions = borough_conviction.agg({'convictions' : 'sum'}).collect()[0][0]"
   ]
  },
  {
   "cell_type": "code",
   "execution_count": 53,
   "metadata": {},
   "outputs": [
    {
     "data": {
      "text/plain": [
       "6447758.0"
      ]
     },
     "execution_count": 53,
     "metadata": {},
     "output_type": "execute_result"
    }
   ],
   "source": [
    "total_convictions"
   ]
  },
  {
   "cell_type": "code",
   "execution_count": 55,
   "metadata": {},
   "outputs": [],
   "source": [
    "import pyspark.sql.functions as func"
   ]
  },
  {
   "cell_type": "code",
   "execution_count": 64,
   "metadata": {},
   "outputs": [],
   "source": [
    "borough_percentage_contribution = \\\n",
    "borough_conviction.withColumn\\\n",
    "('% contribution', func.round(borough_conviction.convictions/total_convictions * 100, 2))"
   ]
  },
  {
   "cell_type": "code",
   "execution_count": 65,
   "metadata": {},
   "outputs": [
    {
     "name": "stdout",
     "output_type": "stream",
     "text": [
      "+--------------------+-----------+--------------+\n",
      "|             borough|convictions|% contribution|\n",
      "+--------------------+-----------+--------------+\n",
      "|             Croydon|   260294.0|          4.04|\n",
      "|          Wandsworth|   204741.0|          3.18|\n",
      "|              Bexley|   114136.0|          1.77|\n",
      "|             Lambeth|   292178.0|          4.53|\n",
      "|Barking and Dagenham|   149447.0|          2.32|\n",
      "|              Camden|   275147.0|          4.27|\n",
      "|           Greenwich|   181568.0|          2.82|\n",
      "|              Newham|   262024.0|          4.06|\n",
      "|       Tower Hamlets|   228613.0|          3.55|\n",
      "|            Hounslow|   186772.0|           2.9|\n",
      "|              Barnet|   212191.0|          3.29|\n",
      "|              Harrow|   116848.0|          1.81|\n",
      "|Kensington and Ch...|   171981.0|          2.67|\n",
      "|           Islington|   230286.0|          3.57|\n",
      "|               Brent|   227551.0|          3.53|\n",
      "|            Haringey|   213272.0|          3.31|\n",
      "|             Bromley|   184349.0|          2.86|\n",
      "|              Merton|   115654.0|          1.79|\n",
      "|         Westminster|   455028.0|          7.06|\n",
      "|             Hackney|   217119.0|          3.37|\n",
      "+--------------------+-----------+--------------+\n",
      "only showing top 20 rows\n",
      "\n"
     ]
    }
   ],
   "source": [
    "borough_percentage_contribution.show()"
   ]
  },
  {
   "cell_type": "raw",
   "metadata": {},
   "source": []
  },
  {
   "cell_type": "code",
   "execution_count": 66,
   "metadata": {},
   "outputs": [
    {
     "name": "stdout",
     "output_type": "stream",
     "text": [
      "root\n",
      " |-- borough: string (nullable = true)\n",
      " |-- convictions: double (nullable = true)\n",
      " |-- % contribution: double (nullable = true)\n",
      "\n"
     ]
    }
   ],
   "source": [
    "borough_percentage_contribution.printSchema()"
   ]
  },
  {
   "cell_type": "code",
   "execution_count": 70,
   "metadata": {},
   "outputs": [
    {
     "name": "stdout",
     "output_type": "stream",
     "text": [
      "+-------------+-----------+--------------+\n",
      "|      borough|convictions|% contribution|\n",
      "+-------------+-----------+--------------+\n",
      "|  Westminster|   455028.0|          7.06|\n",
      "|      Lambeth|   292178.0|          4.53|\n",
      "|    Southwark|   278809.0|          4.32|\n",
      "|       Camden|   275147.0|          4.27|\n",
      "|       Newham|   262024.0|          4.06|\n",
      "|      Croydon|   260294.0|          4.04|\n",
      "|       Ealing|   251562.0|           3.9|\n",
      "|    Islington|   230286.0|          3.57|\n",
      "|Tower Hamlets|   228613.0|          3.55|\n",
      "|        Brent|   227551.0|          3.53|\n",
      "+-------------+-----------+--------------+\n",
      "only showing top 10 rows\n",
      "\n"
     ]
    }
   ],
   "source": [
    "borough_percentage_contribution.orderBy(borough_percentage_contribution[2].desc()).show(10)"
   ]
  },
  {
   "cell_type": "code",
   "execution_count": 76,
   "metadata": {},
   "outputs": [],
   "source": [
    "#convictions for year 2014 per month\n",
    "conviction_monthly = data.filter(data['year'] == 2014).groupBy('month')\\\n",
    "                    .agg({'value' : 'sum'}).withColumnRenamed('sum(value)', 'conviction')"
   ]
  },
  {
   "cell_type": "code",
   "execution_count": 77,
   "metadata": {},
   "outputs": [
    {
     "name": "stdout",
     "output_type": "stream",
     "text": [
      "+-----+----------+\n",
      "|month|conviction|\n",
      "+-----+----------+\n",
      "|    7|   58564.0|\n",
      "|   11|   59704.0|\n",
      "|    3|   57669.0|\n",
      "|    8|   55641.0|\n",
      "|    5|   56327.0|\n",
      "|    6|   57039.0|\n",
      "|    9|   56933.0|\n",
      "|    1|   55515.0|\n",
      "|   10|   60537.0|\n",
      "|    4|   53467.0|\n",
      "|   12|   57565.0|\n",
      "|    2|   51222.0|\n",
      "+-----+----------+\n",
      "\n"
     ]
    }
   ],
   "source": [
    "conviction_monthly.show()"
   ]
  },
  {
   "cell_type": "code",
   "execution_count": 79,
   "metadata": {},
   "outputs": [],
   "source": [
    "total_conviction_monthly = conviction_monthly.agg({'conviction' : 'sum'}).collect()[0][0]"
   ]
  },
  {
   "cell_type": "code",
   "execution_count": 80,
   "metadata": {},
   "outputs": [
    {
     "data": {
      "text/plain": [
       "680183.0"
      ]
     },
     "execution_count": 80,
     "metadata": {},
     "output_type": "execute_result"
    }
   ],
   "source": [
    "total_conviction_monthly"
   ]
  },
  {
   "cell_type": "code",
   "execution_count": 83,
   "metadata": {},
   "outputs": [],
   "source": [
    "monthly_conviction_distribution = conviction_monthly\\\n",
    ".withColumn('% contribution', func.round(conviction_monthly.conviction/total_conviction_monthly * 100 , 2))"
   ]
  },
  {
   "cell_type": "code",
   "execution_count": 84,
   "metadata": {},
   "outputs": [
    {
     "name": "stdout",
     "output_type": "stream",
     "text": [
      "+-----+----------+--------------+\n",
      "|month|conviction|% contribution|\n",
      "+-----+----------+--------------+\n",
      "|    7|   58564.0|          8.61|\n",
      "|   11|   59704.0|          8.78|\n",
      "|    3|   57669.0|          8.48|\n",
      "|    8|   55641.0|          8.18|\n",
      "|    5|   56327.0|          8.28|\n",
      "|    6|   57039.0|          8.39|\n",
      "|    9|   56933.0|          8.37|\n",
      "|    1|   55515.0|          8.16|\n",
      "|   10|   60537.0|           8.9|\n",
      "|    4|   53467.0|          7.86|\n",
      "|   12|   57565.0|          8.46|\n",
      "|    2|   51222.0|          7.53|\n",
      "+-----+----------+--------------+\n",
      "\n"
     ]
    }
   ],
   "source": [
    "monthly_conviction_distribution.show()"
   ]
  },
  {
   "cell_type": "code",
   "execution_count": 86,
   "metadata": {},
   "outputs": [
    {
     "name": "stdout",
     "output_type": "stream",
     "text": [
      "+-----+----------+--------------+\n",
      "|month|conviction|% contribution|\n",
      "+-----+----------+--------------+\n",
      "|   10|   60537.0|           8.9|\n",
      "|   11|   59704.0|          8.78|\n",
      "|    7|   58564.0|          8.61|\n",
      "|    3|   57669.0|          8.48|\n",
      "|   12|   57565.0|          8.46|\n",
      "|    6|   57039.0|          8.39|\n",
      "|    9|   56933.0|          8.37|\n",
      "|    5|   56327.0|          8.28|\n",
      "|    8|   55641.0|          8.18|\n",
      "|    1|   55515.0|          8.16|\n",
      "|    4|   53467.0|          7.86|\n",
      "|    2|   51222.0|          7.53|\n",
      "+-----+----------+--------------+\n",
      "\n"
     ]
    }
   ],
   "source": [
    "monthly_conviction_distribution.orderBy(monthly_conviction_distribution[2].desc()).show()"
   ]
  },
  {
   "cell_type": "code",
   "execution_count": 12,
   "metadata": {},
   "outputs": [
    {
     "name": "stdout",
     "output_type": "stream",
     "text": [
      "+--------------------+----------+\n",
      "|      major_category|conviction|\n",
      "+--------------------+----------+\n",
      "|               Drugs|  470765.0|\n",
      "|             Robbery|  258873.0|\n",
      "|  Theft and Handling| 2661861.0|\n",
      "|    Fraud or Forgery|    5325.0|\n",
      "|Violence Against ...| 1558081.0|\n",
      "|            Burglary|  754293.0|\n",
      "|Other Notifiable ...|  106349.0|\n",
      "|     Sexual Offences|    1273.0|\n",
      "|     Criminal Damage|  630938.0|\n",
      "+--------------------+----------+\n",
      "\n"
     ]
    }
   ],
   "source": [
    "#conviction based on major_category\n",
    "conviction_major_cat = data.groupBy('major_category')\\\n",
    "                    .agg({'value' : 'sum'}).withColumnRenamed('sum(value)', 'conviction')\n",
    "conviction_major_cat.show()"
   ]
  },
  {
   "cell_type": "code",
   "execution_count": 14,
   "metadata": {},
   "outputs": [
    {
     "name": "stdout",
     "output_type": "stream",
     "text": [
      "+--------------------+----------+\n",
      "|      major_category|conviction|\n",
      "+--------------------+----------+\n",
      "|  Theft and Handling| 2661861.0|\n",
      "|Violence Against ...| 1558081.0|\n",
      "|            Burglary|  754293.0|\n",
      "|     Criminal Damage|  630938.0|\n",
      "|               Drugs|  470765.0|\n",
      "|             Robbery|  258873.0|\n",
      "|Other Notifiable ...|  106349.0|\n",
      "|    Fraud or Forgery|    5325.0|\n",
      "|     Sexual Offences|    1273.0|\n",
      "+--------------------+----------+\n",
      "\n"
     ]
    }
   ],
   "source": [
    "conviction_major_cat.orderBy(conviction_major_cat[1].desc()).show()"
   ]
  },
  {
   "cell_type": "code",
   "execution_count": 15,
   "metadata": {},
   "outputs": [
    {
     "name": "stdout",
     "output_type": "stream",
     "text": [
      "+----+\n",
      "|year|\n",
      "+----+\n",
      "|2016|\n",
      "|2016|\n",
      "|2015|\n",
      "|2016|\n",
      "|2008|\n",
      "|2012|\n",
      "|2010|\n",
      "|2013|\n",
      "|2013|\n",
      "|2016|\n",
      "|2013|\n",
      "|2015|\n",
      "|2014|\n",
      "|2011|\n",
      "|2016|\n",
      "|2012|\n",
      "|2009|\n",
      "|2009|\n",
      "|2016|\n",
      "|2009|\n",
      "+----+\n",
      "only showing top 20 rows\n",
      "\n"
     ]
    }
   ],
   "source": [
    "#Find minimum and maximum of a year \n",
    "col_year = data.select('year')\n",
    "col_year.show()"
   ]
  },
  {
   "cell_type": "code",
   "execution_count": 16,
   "metadata": {},
   "outputs": [
    {
     "name": "stdout",
     "output_type": "stream",
     "text": [
      "+---------+\n",
      "|min(year)|\n",
      "+---------+\n",
      "|     2008|\n",
      "+---------+\n",
      "\n"
     ]
    }
   ],
   "source": [
    "col_year.agg({'year' : 'min'}).show()"
   ]
  },
  {
   "cell_type": "code",
   "execution_count": 17,
   "metadata": {},
   "outputs": [
    {
     "name": "stdout",
     "output_type": "stream",
     "text": [
      "+---------+\n",
      "|max(year)|\n",
      "+---------+\n",
      "|     2016|\n",
      "+---------+\n",
      "\n"
     ]
    }
   ],
   "source": [
    "col_year.agg({'year' : 'max'}).show()"
   ]
  },
  {
   "cell_type": "code",
   "execution_count": 19,
   "metadata": {},
   "outputs": [
    {
     "name": "stdout",
     "output_type": "stream",
     "text": [
      "+-------+-----------------+\n",
      "|summary|             year|\n",
      "+-------+-----------------+\n",
      "|  count|         13490604|\n",
      "|   mean|           2012.0|\n",
      "| stddev|2.581988993167432|\n",
      "|    min|             2008|\n",
      "|    max|             2016|\n",
      "+-------+-----------------+\n",
      "\n"
     ]
    }
   ],
   "source": [
    "#describe dataframe \n",
    "col_year.describe().show()"
   ]
  },
  {
   "cell_type": "code",
   "execution_count": 26,
   "metadata": {},
   "outputs": [
    {
     "name": "stdout",
     "output_type": "stream",
     "text": [
      "+----------------------+\n",
      "|borough_major_category|\n",
      "+----------------------+\n",
      "|              Havering|\n",
      "|                Merton|\n",
      "|              Haringey|\n",
      "|         Tower Hamlets|\n",
      "|               Bromley|\n",
      "|               Enfield|\n",
      "|  Kingston upon Thames|\n",
      "|           Westminster|\n",
      "|  Richmond upon Thames|\n",
      "|              Lewisham|\n",
      "|                 Brent|\n",
      "|  Barking and Dagenham|\n",
      "|             Redbridge|\n",
      "|             Islington|\n",
      "|               Hackney|\n",
      "|                Newham|\n",
      "|        City of London|\n",
      "|                Sutton|\n",
      "|             Southwark|\n",
      "|                Harrow|\n",
      "+----------------------+\n",
      "only showing top 20 rows\n",
      "\n"
     ]
    }
   ],
   "source": [
    "data.crosstab('borough', 'major_category').select('borough_major_category').show()"
   ]
  },
  {
   "cell_type": "code",
   "execution_count": 29,
   "metadata": {},
   "outputs": [
    {
     "name": "stdout",
     "output_type": "stream",
     "text": [
      "+----------------------+--------+-----+----------------+-------+\n",
      "|borough_major_category|Burglary|Drugs|Fraud or Forgery|Robbery|\n",
      "+----------------------+--------+-----+----------------+-------+\n",
      "|              Havering|   32400|32616|            5508|  27648|\n",
      "|                Merton|   26784|29160|            5724|  23652|\n",
      "|              Haringey|   31320|35424|           10368|  29484|\n",
      "|         Tower Hamlets|   31104|37368|            5400|  28512|\n",
      "|               Bromley|   42552|42336|            8532|  34668|\n",
      "|               Enfield|   39528|44064|            9720|  35532|\n",
      "|  Kingston upon Thames|   21168|22140|            3780|  15660|\n",
      "|           Westminster|   27648|32616|            8748|  25056|\n",
      "|  Richmond upon Thames|   24840|23004|            2808|  18468|\n",
      "|              Lewisham|   36504|43740|           11016|  34884|\n",
      "|                 Brent|   37368|46980|            9288|  34128|\n",
      "|  Barking and Dagenham|   23760|26244|            7236|  22248|\n",
      "|             Redbridge|   34776|36504|            8532|  32400|\n",
      "|             Islington|   26568|34128|            5184|  26244|\n",
      "|               Hackney|   31104|38772|            7560|  29160|\n",
      "|                Newham|   35424|41580|           10692|  34452|\n",
      "|        City of London|     540|  756|               0|    540|\n",
      "|                Sutton|   26136|26784|            3024|  21060|\n",
      "|             Southwark|   35856|45144|           11772|  35316|\n",
      "|                Harrow|   29592|31212|            4752|  23976|\n",
      "+----------------------+--------+-----+----------------+-------+\n",
      "only showing top 20 rows\n",
      "\n"
     ]
    }
   ],
   "source": [
    "data\\\n",
    ".crosstab('borough', 'major_category')\\\n",
    ".select('borough_major_category','Burglary','Drugs','Fraud or Forgery', 'Robbery').show()"
   ]
  },
  {
   "cell_type": "code",
   "execution_count": 30,
   "metadata": {},
   "outputs": [],
   "source": [
    "get_ipython().magic('matplotlib inline')\n",
    "import matplotlib.pyplot as plt\n",
    "plt.style.use('ggplot')"
   ]
  },
  {
   "cell_type": "code",
   "execution_count": 38,
   "metadata": {},
   "outputs": [
    {
     "data": {
      "text/plain": [
       "['7', '11', '3', '8', '5', '6', '9', '1', '10', '4', '12', '2']"
      ]
     },
     "execution_count": 38,
     "metadata": {},
     "output_type": "execute_result"
    }
   ],
   "source": [
    "yearly_details = data.filter(data['year'] == 2014).groupBy('month')\\\n",
    "                    .agg({'value' : 'sum'}).withColumnRenamed('sum(value)', 'conviction')\n",
    "borough_list = [x[0] for x in yearly_details.toLocalIterator()]\n",
    "borough_list"
   ]
  },
  {
   "cell_type": "code",
   "execution_count": 39,
   "metadata": {},
   "outputs": [],
   "source": [
    "conviction_list = [x[1] for x in yearly_details.toLocalIterator()]"
   ]
  },
  {
   "cell_type": "code",
   "execution_count": 41,
   "metadata": {},
   "outputs": [
    {
     "data": {
      "image/png": "[encoded data removed]",
      "text/plain": [
       "<Figure size 2376x720 with 1 Axes>"
      ]
     },
     "metadata": {},
     "output_type": "display_data"
    }
   ],
   "source": [
    "def describe_year(year):\n",
    "    yearly_details = data.filter(data['year'] == year).groupBy('month')\\\n",
    "                        .agg({'value' : 'sum'}).withColumnRenamed('sum(value)', 'conviction')\n",
    "    borough_list = [x[0] for x in yearly_details.toLocalIterator()]\n",
    "    conviction_list = [x[1] for x in yearly_details.toLocalIterator()]\n",
    "    plt.figure(figsize = (33,10))\n",
    "    plt.bar(borough_list, conviction_list)\n",
    "    plt.title('conviction of the year:' + year, fontsize = 30)\n",
    "    plt.xlabel('borough', fontsize = 30)\n",
    "    plt.ylabel('conviction', fontsize = 30)\n",
    "    plt.xticks(rotation = 90, fontsize = 30)\n",
    "    plt.yticks(fontsize = 30)\n",
    "    plt.autoscale()\n",
    "    plt.show()\n",
    "    \n",
    "describe_year('2014')"
   ]
  },
  {
   "cell_type": "code",
   "execution_count": null,
   "metadata": {},
   "outputs": [],
   "source": []
  }
 ],
 "metadata": {
  "kernelspec": {
   "display_name": "Python 3",
   "language": "python",
   "name": "python3"
  },
  "language_info": {
   "codemirror_mode": {
    "name": "ipython",
    "version": 3
   },
   "file_extension": ".py",
   "mimetype": "text/x-python",
   "name": "python",
   "nbconvert_exporter": "python",
   "pygments_lexer": "ipython3",
   "version": "3.6.5"
  }
 },
 "nbformat": 4,
 "nbformat_minor": 2
}
