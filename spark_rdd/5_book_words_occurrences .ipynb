{
 "cells": [
  {
   "cell_type": "code",
   "execution_count": 1,
   "metadata": {},
   "outputs": [],
   "source": [
    "#Find no of occurences of words in book using flatMap"
   ]
  },
  {
   "cell_type": "code",
   "execution_count": 2,
   "metadata": {},
   "outputs": [],
   "source": [
    "book_txt = \"Book.txt\"\n",
    "book = sc.textFile(book_txt)"
   ]
  },
  {
   "cell_type": "code",
   "execution_count": 3,
   "metadata": {},
   "outputs": [],
   "source": [
    "book_w = book.flatMap(lambda x:x.lower().split())"
   ]
  },
  {
   "cell_type": "code",
   "execution_count": 4,
   "metadata": {},
   "outputs": [],
   "source": [
    "word_cnt  =  book_w.countByValue()"
   ]
  },
  {
   "cell_type": "code",
   "execution_count": 5,
   "metadata": {},
   "outputs": [
    {
     "data": {
      "text/plain": [
       "[('self-employment:', 1),\n",
       " ('building', 32),\n",
       " ('an', 178),\n",
       " ('internet', 13),\n",
       " ('business', 290)]"
      ]
     },
     "execution_count": 5,
     "metadata": {},
     "output_type": "execute_result"
    }
   ],
   "source": [
    "[x for x in word_cnt.items()][:5]"
   ]
  },
  {
   "cell_type": "code",
   "execution_count": 6,
   "metadata": {},
   "outputs": [
    {
     "name": "stdout",
     "output_type": "stream",
     "text": [
      "self-employment: 1\n",
      "building 32\n",
      "an 178\n",
      "internet 13\n",
      "business 290\n",
      "of 960\n",
      "one 81\n",
      "achieving 1\n",
      "financial 17\n",
      "and 923\n",
      "personal 47\n",
      "freedom 33\n",
      "through 57\n",
      "a 1187\n",
      "lifestyle 38\n",
      "technology 9\n"
     ]
    }
   ],
   "source": [
    "stop = 0\n",
    "for word, count in word_cnt.items():\n",
    "    cleanWord = word.encode('ascii', 'ignore')\n",
    "    if (cleanWord):\n",
    "        print(cleanWord.decode() + \" \" + str(count))\n",
    "    stop += 1\n",
    "    if stop > 15: break"
   ]
  },
  {
   "cell_type": "code",
   "execution_count": 7,
   "metadata": {},
   "outputs": [
    {
     "name": "stdout",
     "output_type": "stream",
     "text": [
      "self 111\n",
      "employment 75\n",
      "building 33\n",
      "an 178\n",
      "internet 26\n",
      "business 383\n",
      "of 970\n",
      "one 100\n",
      "achieving 1\n",
      "financial 17\n",
      "and 934\n",
      "personal 48\n",
      "freedom 41\n",
      "through 57\n",
      "a 1191\n",
      "lifestyle 44\n"
     ]
    }
   ],
   "source": [
    "import re\n",
    "def normalizeWords(text):\n",
    "    return re.compile(r'\\W+', re.UNICODE).split(text.lower())\n",
    "\n",
    "input1 = sc.textFile(\"Book.txt\")\n",
    "words = input1.flatMap(normalizeWords)\n",
    "wordCounts = words.countByValue()\n",
    "stop = 0\n",
    "for word, count in wordCounts.items():\n",
    "    cleanWord = word.encode('ascii', 'ignore')\n",
    "    if (cleanWord):\n",
    "        print(cleanWord.decode() + \" \" + str(count))\n",
    "    stop += 1\n",
    "    if stop > 15: break"
   ]
  },
  {
   "cell_type": "code",
   "execution_count": null,
   "metadata": {},
   "outputs": [],
   "source": []
  },
  {
   "cell_type": "code",
   "execution_count": null,
   "metadata": {},
   "outputs": [],
   "source": []
  }
 ],
 "metadata": {
  "kernelspec": {
   "display_name": "Python 3",
   "language": "python",
   "name": "python3"
  },
  "language_info": {
   "codemirror_mode": {
    "name": "ipython",
    "version": 3
   },
   "file_extension": ".py",
   "mimetype": "text/x-python",
   "name": "python",
   "nbconvert_exporter": "python",
   "pygments_lexer": "ipython3",
   "version": "3.6.5"
  }
 },
 "nbformat": 4,
 "nbformat_minor": 2
}
