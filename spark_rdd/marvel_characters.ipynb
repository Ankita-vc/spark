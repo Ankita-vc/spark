{
 "cells": [
  {
   "cell_type": "code",
   "execution_count": 2,
   "metadata": {},
   "outputs": [
    {
     "data": {
      "text/html": [
       "\n",
       "        <div>\n",
       "            <p><b>SparkContext</b></p>\n",
       "\n",
       "            <p><a href=\"http://ICPL12901:4051\">Spark UI</a></p>\n",
       "\n",
       "            <dl>\n",
       "              <dt>Version</dt>\n",
       "                <dd><code>v2.3.1</code></dd>\n",
       "              <dt>Master</dt>\n",
       "                <dd><code>local[2]</code></dd>\n",
       "              <dt>AppName</dt>\n",
       "                <dd><code>PySparkShell</code></dd>\n",
       "            </dl>\n",
       "        </div>\n",
       "        "
      ],
      "text/plain": [
       "<SparkContext master=local[2] appName=PySparkShell>"
      ]
     },
     "execution_count": 2,
     "metadata": {},
     "output_type": "execute_result"
    }
   ],
   "source": [
    "sc"
   ]
  },
  {
   "cell_type": "code",
   "execution_count": 3,
   "metadata": {},
   "outputs": [],
   "source": [
    "file_char = \"datasets/spark/Characters.txt\"\n",
    "file_book = \"datasets/spark/Books.txt\"\n",
    "file_edge = \"datasets/spark/Edges.txt\""
   ]
  },
  {
   "cell_type": "code",
   "execution_count": 4,
   "metadata": {},
   "outputs": [],
   "source": [
    "chars = sc.textFile(file_char)\n",
    "books = sc.textFile(file_book)\n",
    "edges = sc.textFile(file_edge)"
   ]
  },
  {
   "cell_type": "code",
   "execution_count": 8,
   "metadata": {},
   "outputs": [
    {
     "data": {
      "text/plain": [
       "['Vertex 1: 24-HOUR MAN/EMMANUEL',\n",
       " 'Vertex 2: 3-D MAN/CHARLES CHANDLER & HAROLD CHANDLER',\n",
       " 'Vertex 3: 4-D MAN/MERCURIO',\n",
       " 'Vertex 4: 8-BALL/',\n",
       " 'Vertex 5: A',\n",
       " \"Vertex 6: A'YIN\",\n",
       " 'Vertex 7: ABBOTT, JACK',\n",
       " 'Vertex 8: ABCISSA',\n",
       " 'Vertex 9: ABEL',\n",
       " 'Vertex 10: ABOMINATION/EMIL BLONSKY']"
      ]
     },
     "execution_count": 8,
     "metadata": {},
     "output_type": "execute_result"
    }
   ],
   "source": [
    "chars.take(10)"
   ]
  },
  {
   "cell_type": "code",
   "execution_count": 9,
   "metadata": {},
   "outputs": [
    {
     "data": {
      "text/plain": [
       "['Vertex 6487: AA2 35',\n",
       " 'Vertex 6488: M/PRM 35',\n",
       " 'Vertex 6489: M/PRM 36',\n",
       " 'Vertex 6490: M/PRM 37',\n",
       " 'Vertex 6491: WI? 9',\n",
       " 'Vertex 6492: AVF 4',\n",
       " 'Vertex 6493: AVF 5',\n",
       " 'Vertex 6494: H2 251',\n",
       " 'Vertex 6495: H2 252',\n",
       " 'Vertex 6496: COC 1']"
      ]
     },
     "execution_count": 9,
     "metadata": {},
     "output_type": "execute_result"
    }
   ],
   "source": [
    "books.take(10)"
   ]
  },
  {
   "cell_type": "code",
   "execution_count": 10,
   "metadata": {},
   "outputs": [
    {
     "data": {
      "text/plain": [
       "['*Vertices 19428 6486',\n",
       " '1 \"24-HOUR MAN/EMMANUEL\"',\n",
       " '2 \"3-D MAN/CHARLES CHAN\"',\n",
       " '3 \"4-D MAN/MERCURIO\"',\n",
       " '4 \"8-BALL/\"',\n",
       " '5 \"A\"',\n",
       " '6 \"A\\'YIN\"',\n",
       " '7 \"ABBOTT, JACK\"',\n",
       " '8 \"ABCISSA\"',\n",
       " '9 \"ABEL\"']"
      ]
     },
     "execution_count": 10,
     "metadata": {},
     "output_type": "execute_result"
    }
   ],
   "source": [
    "edges.take(10)"
   ]
  },
  {
   "cell_type": "code",
   "execution_count": 11,
   "metadata": {},
   "outputs": [],
   "source": [
    "def edges_filter(row):\n",
    "    if '*' in row or '\"' in row:\n",
    "        return False\n",
    "    else:\n",
    "        return True\n",
    "    \n",
    "filtered_edge = edges.filter(edges_filter)\n",
    "            "
   ]
  },
  {
   "cell_type": "code",
   "execution_count": 12,
   "metadata": {},
   "outputs": [
    {
     "data": {
      "text/plain": [
       "['1 6487',\n",
       " '2 6488 6489 6490 6491 6492 6493 6494 6495 6496',\n",
       " '3 6497 6498 6499 6500 6501 6502 6503 6504 6505',\n",
       " '4 6506 6507 6508',\n",
       " '5 6509 6510 6511']"
      ]
     },
     "execution_count": 12,
     "metadata": {},
     "output_type": "execute_result"
    }
   ],
   "source": [
    "filtered_edge.take(5)"
   ]
  },
  {
   "cell_type": "code",
   "execution_count": 13,
   "metadata": {},
   "outputs": [],
   "source": [
    "character_book_map = filtered_edge.map(lambda x:x.split()).map(lambda x:(x[0], x[1:]))"
   ]
  },
  {
   "cell_type": "code",
   "execution_count": 15,
   "metadata": {
    "scrolled": true
   },
   "outputs": [
    {
     "data": {
      "text/plain": [
       "[('1', ['6487']),\n",
       " ('2',\n",
       "  ['6488', '6489', '6490', '6491', '6492', '6493', '6494', '6495', '6496']),\n",
       " ('3',\n",
       "  ['6497', '6498', '6499', '6500', '6501', '6502', '6503', '6504', '6505']),\n",
       " ('4', ['6506', '6507', '6508']),\n",
       " ('5', ['6509', '6510', '6511'])]"
      ]
     },
     "execution_count": 15,
     "metadata": {},
     "output_type": "execute_result"
    }
   ],
   "source": [
    "character_book_map.take(5)"
   ]
  },
  {
   "cell_type": "code",
   "execution_count": 16,
   "metadata": {},
   "outputs": [
    {
     "data": {
      "text/plain": [
       "[('1', 1),\n",
       " ('2', 9),\n",
       " ('3', 9),\n",
       " ('4', 3),\n",
       " ('5', 3),\n",
       " ('6', 4),\n",
       " ('7', 1),\n",
       " ('8', 2),\n",
       " ('9', 2),\n",
       " ('10', 15)]"
      ]
     },
     "execution_count": 16,
     "metadata": {},
     "output_type": "execute_result"
    }
   ],
   "source": [
    "#character and no of occurence of it in books(same results can be achieved using mapValues)\n",
    "character_book_map.map(lambda x:(x[0], len(x[1][0:]))).take(10)"
   ]
  },
  {
   "cell_type": "code",
   "execution_count": 17,
   "metadata": {},
   "outputs": [],
   "source": [
    "def char_parse(row):\n",
    "    row = row.split(\":\")\n",
    "    return (row[0][7:], row[1].strip())\n",
    "\n",
    "parsed_chars = chars.map(char_parse).collectAsMap()"
   ]
  },
  {
   "cell_type": "code",
   "execution_count": 20,
   "metadata": {},
   "outputs": [
    {
     "data": {
      "text/plain": [
       "[('1', '24-HOUR MAN/EMMANUEL'),\n",
       " ('2', '3-D MAN/CHARLES CHANDLER & HAROLD CHANDLER'),\n",
       " ('3', '4-D MAN/MERCURIO'),\n",
       " ('4', '8-BALL/'),\n",
       " ('5', 'A')]"
      ]
     },
     "execution_count": 20,
     "metadata": {},
     "output_type": "execute_result"
    }
   ],
   "source": [
    "[x for x in parsed_chars.items()][:5]"
   ]
  },
  {
   "cell_type": "code",
   "execution_count": 21,
   "metadata": {},
   "outputs": [
    {
     "data": {
      "text/plain": [
       "[('24-HOUR MAN/EMMANUEL', 1),\n",
       " ('3-D MAN/CHARLES CHANDLER & HAROLD CHANDLER', 9),\n",
       " ('4-D MAN/MERCURIO', 9),\n",
       " ('8-BALL/', 3),\n",
       " ('A', 3)]"
      ]
     },
     "execution_count": 21,
     "metadata": {},
     "output_type": "execute_result"
    }
   ],
   "source": [
    "character_book_map.mapValues(lambda x:len(x)).map(lambda x:(parsed_chars[x[0]],x[1])).take(5)#get ids of characters and corresponding occurences in books"
   ]
  },
  {
   "cell_type": "code",
   "execution_count": 22,
   "metadata": {},
   "outputs": [
    {
     "data": {
      "text/plain": [
       "[('24-HOUR MAN/EMMANUEL', 1),\n",
       " ('3-D MAN/CHARLES CHANDLER & HAROLD CHANDLER', 9),\n",
       " (\"A'YIN\", 4),\n",
       " ('ABBOTT, JACK', 1),\n",
       " ('ABEL', 2)]"
      ]
     },
     "execution_count": 22,
     "metadata": {},
     "output_type": "execute_result"
    }
   ],
   "source": [
    "character_book_map.mapValues(lambda x:len(x)).map(lambda x:(parsed_chars[x[0]],x[1])).reduceByKey(lambda x,y:x+y).take(5)"
   ]
  },
  {
   "cell_type": "code",
   "execution_count": 23,
   "metadata": {},
   "outputs": [],
   "source": [
    "c = character_book_map.mapValues(lambda x:len(x)).map(lambda x:(parsed_chars[x[0]],x[1])).reduceByKey(lambda x,y:x+y).sortBy(lambda x:-x[1])"
   ]
  },
  {
   "cell_type": "code",
   "execution_count": 24,
   "metadata": {},
   "outputs": [
    {
     "data": {
      "text/plain": [
       "[('SPIDER-MAN/PETER PARKER', 1625),\n",
       " ('CAPTAIN AMERICA', 1367),\n",
       " ('IRON MAN/TONY STARK', 1168),\n",
       " ('THING/BENJAMIN J. GRIMM', 990),\n",
       " ('THOR/DR. DONALD BLAKE/SIGURD JARLSON II/JAKE OLSON/LOREN OLSON', 965),\n",
       " ('HUMAN TORCH/JOHNNY STORM', 908),\n",
       " ('MR. FANTASTIC/REED RICHARDS', 875),\n",
       " ('HULK/DR. ROBERT BRUCE BANNER', 841),\n",
       " ('WOLVERINE/LOGAN', 820),\n",
       " ('INVISIBLE WOMAN/SUE STORM RICHARDS', 782)]"
      ]
     },
     "execution_count": 24,
     "metadata": {},
     "output_type": "execute_result"
    }
   ],
   "source": [
    "c.take(10) #top 10 most influencial characters"
   ]
  },
  {
   "cell_type": "code",
   "execution_count": 25,
   "metadata": {},
   "outputs": [],
   "source": [
    "import itertools"
   ]
  },
  {
   "cell_type": "code",
   "execution_count": 26,
   "metadata": {},
   "outputs": [],
   "source": [
    "cooccurence_map =character_book_map.flatMap(lambda x:list(itertools.combinations(x[1], 2)))\n",
    "                                                                               "
   ]
  },
  {
   "cell_type": "code",
   "execution_count": 27,
   "metadata": {},
   "outputs": [
    {
     "data": {
      "text/plain": [
       "[(('6488', '6489'), 1),\n",
       " (('6488', '6491'), 1),\n",
       " (('6488', '6492'), 1),\n",
       " (('6488', '6494'), 1),\n",
       " (('6488', '6495'), 1)]"
      ]
     },
     "execution_count": 27,
     "metadata": {},
     "output_type": "execute_result"
    }
   ],
   "source": [
    "cooccurence_map.map(lambda x:(x,1)).reduceByKey(lambda x,y:x+y).take(5)"
   ]
  }
 ],
 "metadata": {
  "kernelspec": {
   "display_name": "Python 3",
   "language": "python",
   "name": "python3"
  },
  "language_info": {
   "codemirror_mode": {
    "name": "ipython",
    "version": 3
   },
   "file_extension": ".py",
   "mimetype": "text/x-python",
   "name": "python",
   "nbconvert_exporter": "python",
   "pygments_lexer": "ipython3",
   "version": "3.6.5"
  }
 },
 "nbformat": 4,
 "nbformat_minor": 2
}
