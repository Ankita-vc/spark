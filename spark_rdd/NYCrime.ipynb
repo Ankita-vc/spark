{
 "cells": [
  {
   "cell_type": "code",
   "execution_count": 2,
   "metadata": {},
   "outputs": [
    {
     "data": {
      "text/html": [
       "\n",
       "        <div>\n",
       "            <p><b>SparkContext</b></p>\n",
       "\n",
       "            <p><a href=\"http://10.11.31.63:4041\">Spark UI</a></p>\n",
       "\n",
       "            <dl>\n",
       "              <dt>Version</dt>\n",
       "                <dd><code>v2.3.1</code></dd>\n",
       "              <dt>Master</dt>\n",
       "                <dd><code>local[2]</code></dd>\n",
       "              <dt>AppName</dt>\n",
       "                <dd><code>PySparkShell</code></dd>\n",
       "            </dl>\n",
       "        </div>\n",
       "        "
      ],
      "text/plain": [
       "<SparkContext master=local[2] appName=PySparkShell>"
      ]
     },
     "execution_count": 2,
     "metadata": {},
     "output_type": "execute_result"
    }
   ],
   "source": [
    "sc"
   ]
  },
  {
   "cell_type": "code",
   "execution_count": 4,
   "metadata": {},
   "outputs": [],
   "source": [
    "file = '/home/ankita/resource/books/NYCrime.csv'"
   ]
  },
  {
   "cell_type": "code",
   "execution_count": 5,
   "metadata": {},
   "outputs": [],
   "source": [
    "data = sc.textFile(file)"
   ]
  },
  {
   "cell_type": "code",
   "execution_count": 18,
   "metadata": {},
   "outputs": [
    {
     "name": "stdout",
     "output_type": "stream",
     "text": [
      "OBJECTID,Identifier,Occurrence Date,Day of Week,Occurrence Month,Occurrence Day,Occurrence Year,Occurrence Hour,CompStat Month,CompStat Day,CompStat Year,Offense,Offense Classification,Sector,Precinct,Borough,Jurisdiction,XCoordinate,YCoordinate,Location 1\n"
     ]
    }
   ],
   "source": [
    "#Extract only header\n",
    "header = data.first()\n",
    "print(header)"
   ]
  },
  {
   "cell_type": "code",
   "execution_count": 20,
   "metadata": {},
   "outputs": [
    {
     "data": {
      "text/plain": [
       "'1,f070032d,09/06/1940 07:30:00 PM,Friday,Sep,6,1940,19,9,7,2010,BURGLARY,FELONY,D,66,BROOKLYN,N.Y. POLICE DEPT,987478,166141,\"(40.6227027620001, -73.9883732929999)\"'"
      ]
     },
     "execution_count": 20,
     "metadata": {},
     "output_type": "execute_result"
    }
   ],
   "source": [
    "#Extract only first row without header\n",
    "rows = data.filter(lambda x : x != header) #returns pipelined RDD\n",
    "rows.first()"
   ]
  },
  {
   "cell_type": "code",
   "execution_count": 22,
   "metadata": {},
   "outputs": [
    {
     "data": {
      "text/plain": [
       "['1',\n",
       " 'f070032d',\n",
       " '09/06/1940 07:30:00 PM',\n",
       " 'Friday',\n",
       " 'Sep',\n",
       " '6',\n",
       " '1940',\n",
       " '19',\n",
       " '9',\n",
       " '7',\n",
       " '2010',\n",
       " 'BURGLARY',\n",
       " 'FELONY',\n",
       " 'D',\n",
       " '66',\n",
       " 'BROOKLYN',\n",
       " 'N.Y. POLICE DEPT',\n",
       " '987478',\n",
       " '166141',\n",
       " '\"(40.6227027620001',\n",
       " ' -73.9883732929999)\"']"
      ]
     },
     "execution_count": 22,
     "metadata": {},
     "output_type": "execute_result"
    }
   ],
   "source": [
    "rows.map(lambda x: x.split(\",\")).first()"
   ]
  },
  {
   "cell_type": "code",
   "execution_count": 23,
   "metadata": {},
   "outputs": [],
   "source": [
    "import csv\n",
    "try:\n",
    "    from StringIO import StringIO\n",
    "except ImportError:\n",
    "    from io import StringIO\n",
    "from collections import namedtuple"
   ]
  },
  {
   "cell_type": "code",
   "execution_count": 24,
   "metadata": {},
   "outputs": [
    {
     "name": "stdout",
     "output_type": "stream",
     "text": [
      "['OBJECTID', 'Identifier', 'Occurrence_Date', 'Day_of_Week', 'Occurrence_Month', 'Occurrence_Day', 'Occurrence_Year', 'Occurrence_Hour', 'CompStat_Month', 'CompStat_Day', 'CompStat_Year', 'Offense', 'Offense_Classification', 'Sector', 'Precinct', 'Borough', 'Jurisdiction', 'XCoordinate', 'YCoordinate', 'Location_1']\n"
     ]
    }
   ],
   "source": [
    "fields = header.replace(\" \",\"_\").replace(\"/\",'_').split(\",\")\n",
    "print(fields)"
   ]
  },
  {
   "cell_type": "code",
   "execution_count": 25,
   "metadata": {},
   "outputs": [
    {
     "name": "stdout",
     "output_type": "stream",
     "text": [
      "from builtins import property as _property, tuple as _tuple\n",
      "from operator import itemgetter as _itemgetter\n",
      "from collections import OrderedDict\n",
      "\n",
      "class Crime(tuple):\n",
      "    'Crime(OBJECTID, Identifier, Occurrence_Date, Day_of_Week, Occurrence_Month, Occurrence_Day, Occurrence_Year, Occurrence_Hour, CompStat_Month, CompStat_Day, CompStat_Year, Offense, Offense_Classification, Sector, Precinct, Borough, Jurisdiction, XCoordinate, YCoordinate, Location_1)'\n",
      "\n",
      "    __slots__ = ()\n",
      "\n",
      "    _fields = ('OBJECTID', 'Identifier', 'Occurrence_Date', 'Day_of_Week', 'Occurrence_Month', 'Occurrence_Day', 'Occurrence_Year', 'Occurrence_Hour', 'CompStat_Month', 'CompStat_Day', 'CompStat_Year', 'Offense', 'Offense_Classification', 'Sector', 'Precinct', 'Borough', 'Jurisdiction', 'XCoordinate', 'YCoordinate', 'Location_1')\n",
      "\n",
      "    def __new__(_cls, OBJECTID, Identifier, Occurrence_Date, Day_of_Week, Occurrence_Month, Occurrence_Day, Occurrence_Year, Occurrence_Hour, CompStat_Month, CompStat_Day, CompStat_Year, Offense, Offense_Classification, Sector, Precinct, Borough, Jurisdiction, XCoordinate, YCoordinate, Location_1):\n",
      "        'Create new instance of Crime(OBJECTID, Identifier, Occurrence_Date, Day_of_Week, Occurrence_Month, Occurrence_Day, Occurrence_Year, Occurrence_Hour, CompStat_Month, CompStat_Day, CompStat_Year, Offense, Offense_Classification, Sector, Precinct, Borough, Jurisdiction, XCoordinate, YCoordinate, Location_1)'\n",
      "        return _tuple.__new__(_cls, (OBJECTID, Identifier, Occurrence_Date, Day_of_Week, Occurrence_Month, Occurrence_Day, Occurrence_Year, Occurrence_Hour, CompStat_Month, CompStat_Day, CompStat_Year, Offense, Offense_Classification, Sector, Precinct, Borough, Jurisdiction, XCoordinate, YCoordinate, Location_1))\n",
      "\n",
      "    @classmethod\n",
      "    def _make(cls, iterable, new=tuple.__new__, len=len):\n",
      "        'Make a new Crime object from a sequence or iterable'\n",
      "        result = new(cls, iterable)\n",
      "        if len(result) != 20:\n",
      "            raise TypeError('Expected 20 arguments, got %d' % len(result))\n",
      "        return result\n",
      "\n",
      "    def _replace(_self, **kwds):\n",
      "        'Return a new Crime object replacing specified fields with new values'\n",
      "        result = _self._make(map(kwds.pop, ('OBJECTID', 'Identifier', 'Occurrence_Date', 'Day_of_Week', 'Occurrence_Month', 'Occurrence_Day', 'Occurrence_Year', 'Occurrence_Hour', 'CompStat_Month', 'CompStat_Day', 'CompStat_Year', 'Offense', 'Offense_Classification', 'Sector', 'Precinct', 'Borough', 'Jurisdiction', 'XCoordinate', 'YCoordinate', 'Location_1'), _self))\n",
      "        if kwds:\n",
      "            raise ValueError('Got unexpected field names: %r' % list(kwds))\n",
      "        return result\n",
      "\n",
      "    def __repr__(self):\n",
      "        'Return a nicely formatted representation string'\n",
      "        return self.__class__.__name__ + '(OBJECTID=%r, Identifier=%r, Occurrence_Date=%r, Day_of_Week=%r, Occurrence_Month=%r, Occurrence_Day=%r, Occurrence_Year=%r, Occurrence_Hour=%r, CompStat_Month=%r, CompStat_Day=%r, CompStat_Year=%r, Offense=%r, Offense_Classification=%r, Sector=%r, Precinct=%r, Borough=%r, Jurisdiction=%r, XCoordinate=%r, YCoordinate=%r, Location_1=%r)' % self\n",
      "\n",
      "    def _asdict(self):\n",
      "        'Return a new OrderedDict which maps field names to their values.'\n",
      "        return OrderedDict(zip(self._fields, self))\n",
      "\n",
      "    def __getnewargs__(self):\n",
      "        'Return self as a plain tuple.  Used by copy and pickle.'\n",
      "        return tuple(self)\n",
      "\n",
      "    OBJECTID = _property(_itemgetter(0), doc='Alias for field number 0')\n",
      "\n",
      "    Identifier = _property(_itemgetter(1), doc='Alias for field number 1')\n",
      "\n",
      "    Occurrence_Date = _property(_itemgetter(2), doc='Alias for field number 2')\n",
      "\n",
      "    Day_of_Week = _property(_itemgetter(3), doc='Alias for field number 3')\n",
      "\n",
      "    Occurrence_Month = _property(_itemgetter(4), doc='Alias for field number 4')\n",
      "\n",
      "    Occurrence_Day = _property(_itemgetter(5), doc='Alias for field number 5')\n",
      "\n",
      "    Occurrence_Year = _property(_itemgetter(6), doc='Alias for field number 6')\n",
      "\n",
      "    Occurrence_Hour = _property(_itemgetter(7), doc='Alias for field number 7')\n",
      "\n",
      "    CompStat_Month = _property(_itemgetter(8), doc='Alias for field number 8')\n",
      "\n",
      "    CompStat_Day = _property(_itemgetter(9), doc='Alias for field number 9')\n",
      "\n",
      "    CompStat_Year = _property(_itemgetter(10), doc='Alias for field number 10')\n",
      "\n",
      "    Offense = _property(_itemgetter(11), doc='Alias for field number 11')\n",
      "\n",
      "    Offense_Classification = _property(_itemgetter(12), doc='Alias for field number 12')\n",
      "\n",
      "    Sector = _property(_itemgetter(13), doc='Alias for field number 13')\n",
      "\n",
      "    Precinct = _property(_itemgetter(14), doc='Alias for field number 14')\n",
      "\n",
      "    Borough = _property(_itemgetter(15), doc='Alias for field number 15')\n",
      "\n",
      "    Jurisdiction = _property(_itemgetter(16), doc='Alias for field number 16')\n",
      "\n",
      "    XCoordinate = _property(_itemgetter(17), doc='Alias for field number 17')\n",
      "\n",
      "    YCoordinate = _property(_itemgetter(18), doc='Alias for field number 18')\n",
      "\n",
      "    Location_1 = _property(_itemgetter(19), doc='Alias for field number 19')\n",
      "\n",
      "\n"
     ]
    }
   ],
   "source": [
    "Crime = namedtuple(\"Crime\", fields, verbose=True)"
   ]
  },
  {
   "cell_type": "code",
   "execution_count": 26,
   "metadata": {},
   "outputs": [],
   "source": [
    "def make(row):\n",
    "    reader = csv.reader(StringIO(row))\n",
    "    row = next(reader)\n",
    "    return Crime(*row)"
   ]
  },
  {
   "cell_type": "code",
   "execution_count": 27,
   "metadata": {},
   "outputs": [],
   "source": [
    "crimes = rows.map(make)"
   ]
  },
  {
   "cell_type": "code",
   "execution_count": 28,
   "metadata": {},
   "outputs": [
    {
     "data": {
      "text/plain": [
       "Crime(OBJECTID='1', Identifier='f070032d', Occurrence_Date='09/06/1940 07:30:00 PM', Day_of_Week='Friday', Occurrence_Month='Sep', Occurrence_Day='6', Occurrence_Year='1940', Occurrence_Hour='19', CompStat_Month='9', CompStat_Day='7', CompStat_Year='2010', Offense='BURGLARY', Offense_Classification='FELONY', Sector='D', Precinct='66', Borough='BROOKLYN', Jurisdiction='N.Y. POLICE DEPT', XCoordinate='987478', YCoordinate='166141', Location_1='(40.6227027620001, -73.9883732929999)')"
      ]
     },
     "execution_count": 28,
     "metadata": {},
     "output_type": "execute_result"
    }
   ],
   "source": [
    "crimes.first()"
   ]
  },
  {
   "cell_type": "code",
   "execution_count": 29,
   "metadata": {},
   "outputs": [
    {
     "data": {
      "text/plain": [
       "'BURGLARY'"
      ]
     },
     "execution_count": 29,
     "metadata": {},
     "output_type": "execute_result"
    }
   ],
   "source": [
    "crimes.first().Offense"
   ]
  },
  {
   "cell_type": "code",
   "execution_count": 30,
   "metadata": {},
   "outputs": [
    {
     "data": {
      "text/plain": [
       "defaultdict(int,\n",
       "            {'BURGLARY': 191369,\n",
       "             'GRAND LARCENY': 428993,\n",
       "             'GRAND LARCENY OF MOTOR VEHICLE': 101963,\n",
       "             'RAPE': 13779,\n",
       "             'ROBBERY': 198744,\n",
       "             'FELONY ASSAULT': 184042,\n",
       "             'MURDER & NON-NEGL. MANSLAUGHTE': 4574,\n",
       "             'NA': 1})"
      ]
     },
     "execution_count": 30,
     "metadata": {},
     "output_type": "execute_result"
    }
   ],
   "source": [
    "crimes.map(lambda x: x.Offense).countByValue()"
   ]
  },
  {
   "cell_type": "code",
   "execution_count": 31,
   "metadata": {},
   "outputs": [],
   "source": [
    "crimeFiltered = crimes.filter(lambda x: not(x.Offense == 'NA' or x.Occurrence_Year == '')) \\\n",
    "                       .filter(lambda x: int(x.Occurrence_Year) >= 2006)"
   ]
  },
  {
   "cell_type": "code",
   "execution_count": 32,
   "metadata": {},
   "outputs": [
    {
     "data": {
      "text/plain": [
       "defaultdict(int,\n",
       "            {'2006': 127887,\n",
       "             '2015': 102657,\n",
       "             '2007': 120554,\n",
       "             '2008': 117375,\n",
       "             '2009': 106018,\n",
       "             '2010': 105643,\n",
       "             '2011': 107206,\n",
       "             '2012': 111798,\n",
       "             '2013': 111286,\n",
       "             '2014': 106849})"
      ]
     },
     "execution_count": 32,
     "metadata": {},
     "output_type": "execute_result"
    }
   ],
   "source": [
    "crimeFiltered.map(lambda x: x.Occurrence_Year).countByValue()"
   ]
  },
  {
   "cell_type": "code",
   "execution_count": 33,
   "metadata": {},
   "outputs": [],
   "source": [
    "def extractCoords(locations):\n",
    "    loc_latt = float(locations[1:locations.index(\",\")])\n",
    "    loc_long = float(locations[locations.index(\",\")+1:-1])\n",
    "    return (loc_latt, loc_long)\n"
   ]
  },
  {
   "cell_type": "code",
   "execution_count": 34,
   "metadata": {},
   "outputs": [
    {
     "data": {
      "text/plain": [
       "(40.112709974, -77.519206334)"
      ]
     },
     "execution_count": 34,
     "metadata": {},
     "output_type": "execute_result"
    }
   ],
   "source": [
    "#Finding maximum and minimum location lattitude and longitude values in our code\n",
    "crimeFiltered.map(lambda x : extractCoords(x.Location_1)) \\\n",
    "            .reduce(lambda x,y : (min(x[0], y[0]), min(x[1], y[1])))"
   ]
  },
  {
   "cell_type": "code",
   "execution_count": 35,
   "metadata": {},
   "outputs": [
    {
     "data": {
      "text/plain": [
       "Crime(OBJECTID='258', Identifier='13b6949b', Occurrence_Date='01/09/2006 12:00:00 AM', Day_of_Week='Monday', Occurrence_Month='Jan', Occurrence_Day='9', Occurrence_Year='2006', Occurrence_Hour='0', CompStat_Month='8', CompStat_Day='16', CompStat_Year='2006', Offense='GRAND LARCENY', Offense_Classification='FELONY', Sector='H', Precinct='102', Borough='QUEENS', Jurisdiction='N.Y. POLICE DEPT', XCoordinate='1029007', YCoordinate='194256', Location_1='(40.6997596520001, -73.8385879319999)')"
      ]
     },
     "execution_count": 35,
     "metadata": {},
     "output_type": "execute_result"
    }
   ],
   "source": [
    "crimeFiltered.first()"
   ]
  },
  {
   "cell_type": "code",
   "execution_count": 37,
   "metadata": {},
   "outputs": [
    {
     "data": {
      "text/plain": [
       "(40.6997596520001, -73.8385879319999)"
      ]
     },
     "execution_count": 37,
     "metadata": {},
     "output_type": "execute_result"
    }
   ],
   "source": [
    "crimeFiltered.map(lambda x : extractCoords(x.Location_1)).first()"
   ]
  },
  {
   "cell_type": "code",
   "execution_count": 39,
   "metadata": {},
   "outputs": [
    {
     "data": {
      "text/plain": [
       "(40.6997596520001, -73.8385879319999)"
      ]
     },
     "execution_count": 39,
     "metadata": {},
     "output_type": "execute_result"
    }
   ],
   "source": [
    "\n",
    "crimeFiltered.map(lambda x : extractCoords(x.Location_1)).first()\n"
   ]
  },
  {
   "cell_type": "code",
   "execution_count": 41,
   "metadata": {},
   "outputs": [
    {
     "data": {
      "text/plain": [
       "defaultdict(int, {False: 1117273})"
      ]
     },
     "execution_count": 41,
     "metadata": {},
     "output_type": "execute_result"
    }
   ],
   "source": [
    "crimeFiltered.map(lambda x: (x.Location_1 == '')).countByValue()"
   ]
  },
  {
   "cell_type": "code",
   "execution_count": null,
   "metadata": {},
   "outputs": [],
   "source": []
  }
 ],
 "metadata": {
  "kernelspec": {
   "display_name": "Python 3",
   "language": "python",
   "name": "python3"
  },
  "language_info": {
   "codemirror_mode": {
    "name": "ipython",
    "version": 3
   },
   "file_extension": ".py",
   "mimetype": "text/x-python",
   "name": "python",
   "nbconvert_exporter": "python",
   "pygments_lexer": "ipython3",
   "version": "3.6.5"
  }
 },
 "nbformat": 4,
 "nbformat_minor": 2
}
