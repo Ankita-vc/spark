{
 "cells": [
  {
   "cell_type": "code",
   "execution_count": 1,
   "metadata": {},
   "outputs": [],
   "source": [
    "from pyspark.sql import SparkSession\n",
    "spark = SparkSession.builder.appName(\"soccer players dataset analysis\").getOrCreate()"
   ]
  },
  {
   "cell_type": "code",
   "execution_count": 6,
   "metadata": {},
   "outputs": [],
   "source": [
    "#load data from csv into spark dataframe\n",
    "data = spark.read.format('csv').option('header', True).load('player.csv')"
   ]
  },
  {
   "cell_type": "code",
   "execution_count": 4,
   "metadata": {},
   "outputs": [
    {
     "data": {
      "text/plain": [
       "DataFrame[id: string, player_api_id: string, player_name: string, player_fifa_api_id: string, birthday: string, height: string, weight: string]"
      ]
     },
     "execution_count": 4,
     "metadata": {},
     "output_type": "execute_result"
    }
   ],
   "source": [
    "data"
   ]
  },
  {
   "cell_type": "code",
   "execution_count": 5,
   "metadata": {},
   "outputs": [
    {
     "name": "stdout",
     "output_type": "stream",
     "text": [
      "+---+-------------+--------------------+------------------+-------------------+------+------+\n",
      "| id|player_api_id|         player_name|player_fifa_api_id|           birthday|height|weight|\n",
      "+---+-------------+--------------------+------------------+-------------------+------+------+\n",
      "|  1|       505942|  Aaron Appindangoye|            218353|1992-02-29 00:00:00|182.88|   187|\n",
      "|  2|       155782|     Aaron Cresswell|            189615|1989-12-15 00:00:00|170.18|   146|\n",
      "|  3|       162549|         Aaron Doran|            186170|1991-05-13 00:00:00|170.18|   163|\n",
      "|  4|        30572|       Aaron Galindo|            140161|1982-05-08 00:00:00|182.88|   198|\n",
      "|  5|        23780|        Aaron Hughes|             17725|1979-11-08 00:00:00|182.88|   154|\n",
      "|  6|        27316|          Aaron Hunt|            158138|1986-09-04 00:00:00|182.88|   161|\n",
      "|  7|       564793|          Aaron Kuhl|            221280|1996-01-30 00:00:00|172.72|   146|\n",
      "|  8|        30895|        Aaron Lennon|            152747|1987-04-16 00:00:00| 165.1|   139|\n",
      "|  9|       528212|        Aaron Lennox|            206592|1993-02-19 00:00:00| 190.5|   181|\n",
      "| 10|       101042|       Aaron Meijers|            188621|1987-10-28 00:00:00|175.26|   170|\n",
      "| 11|        23889|       Aaron Mokoena|             47189|1980-11-25 00:00:00|182.88|   181|\n",
      "| 12|       231592|          Aaron Mooy|            194958|1990-09-15 00:00:00|175.26|   150|\n",
      "| 13|       163222|      Aaron Muirhead|            213568|1990-08-30 00:00:00|187.96|   168|\n",
      "| 14|        40719|        Aaron Niguez|            183853|1989-04-26 00:00:00|170.18|   143|\n",
      "| 15|        75489|        Aaron Ramsey|            186561|1990-12-26 00:00:00| 177.8|   154|\n",
      "| 16|       597948|       Aaron Splaine|            226014|1996-10-13 00:00:00|172.72|   163|\n",
      "| 17|       161644|Aaron Taylor-Sinc...|            213569|1991-04-08 00:00:00|182.88|   176|\n",
      "| 18|        23499|     Aaron Wilbraham|              2335|1979-10-21 00:00:00| 190.5|   159|\n",
      "| 19|       120919|   Aatif Chahechouhe|            187939|1986-07-02 00:00:00|175.26|   150|\n",
      "| 20|        46447|           Abasse Ba|            156626|1976-07-12 00:00:00|187.96|   185|\n",
      "+---+-------------+--------------------+------------------+-------------------+------+------+\n",
      "only showing top 20 rows\n",
      "\n"
     ]
    }
   ],
   "source": [
    "data.show()"
   ]
  },
  {
   "cell_type": "code",
   "execution_count": 7,
   "metadata": {},
   "outputs": [
    {
     "name": "stdout",
     "output_type": "stream",
     "text": [
      "root\n",
      " |-- id: string (nullable = true)\n",
      " |-- player_api_id: string (nullable = true)\n",
      " |-- player_name: string (nullable = true)\n",
      " |-- player_fifa_api_id: string (nullable = true)\n",
      " |-- birthday: string (nullable = true)\n",
      " |-- height: string (nullable = true)\n",
      " |-- weight: string (nullable = true)\n",
      "\n"
     ]
    }
   ],
   "source": [
    "#print schema of the dataframe\n",
    "data.printSchema()"
   ]
  },
  {
   "cell_type": "code",
   "execution_count": null,
   "metadata": {},
   "outputs": [],
   "source": [
    "#load data from player attributes\n",
    "player_attributes.csvspark.read.format('csv').option('header', True).load('player.csv'"
   ]
  }
 ],
 "metadata": {
  "kernelspec": {
   "display_name": "Python 3",
   "language": "python",
   "name": "python3"
  },
  "language_info": {
   "codemirror_mode": {
    "name": "ipython",
    "version": 3
   },
   "file_extension": ".py",
   "mimetype": "text/x-python",
   "name": "python",
   "nbconvert_exporter": "python",
   "pygments_lexer": "ipython3",
   "version": "3.6.5"
  }
 },
 "nbformat": 4,
 "nbformat_minor": 2
}
